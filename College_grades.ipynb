{
 "cells": [
  {
   "cell_type": "code",
   "execution_count": 2,
   "id": "25e130d1",
   "metadata": {},
   "outputs": [
    {
     "name": "stdout",
     "output_type": "stream",
     "text": [
      "Enter the marks\n",
      "56\n",
      "Your marks are:  55\n"
     ]
    }
   ],
   "source": [
    "marks = int(input(\"Enter the marks\\n\"))\n",
    "while marks >= 40:\n",
    "    if marks%5 >= 3:\n",
    "        marks = marks-(marks%5)+5\n",
    "    else:\n",
    "         marks = marks-(marks%5)\n",
    "    break\n",
    "print(\"Your marks are: \",marks)"
   ]
  },
  {
   "cell_type": "code",
   "execution_count": 3,
   "id": "0ba59b12",
   "metadata": {},
   "outputs": [
    {
     "name": "stdout",
     "output_type": "stream",
     "text": [
      "Enter the marks\n",
      "58\n",
      "Your marks are:  60\n"
     ]
    }
   ],
   "source": [
    "marks = int(input(\"Enter the marks\\n\"))\n",
    "while marks >= 40:\n",
    "    if marks%5 >= 3:\n",
    "        marks = marks-(marks%5)+5\n",
    "    else:\n",
    "         marks = marks-(marks%5)\n",
    "    break\n",
    "print(\"Your marks are: \",marks)"
   ]
  },
  {
   "cell_type": "code",
   "execution_count": 4,
   "id": "93f5d87a",
   "metadata": {},
   "outputs": [
    {
     "name": "stdout",
     "output_type": "stream",
     "text": [
      "Enter the marks\n",
      "39\n",
      "Your marks are:  39\n"
     ]
    }
   ],
   "source": [
    "marks = int(input(\"Enter the marks\\n\"))\n",
    "while marks >= 40:\n",
    "    if marks%5 >= 3:\n",
    "        marks = marks-(marks%5)+5\n",
    "    else:\n",
    "         marks = marks-(marks%5)\n",
    "    break\n",
    "print(\"Your marks are: \",marks)"
   ]
  },
  {
   "cell_type": "code",
   "execution_count": 5,
   "id": "cb313c9d",
   "metadata": {},
   "outputs": [
    {
     "name": "stdout",
     "output_type": "stream",
     "text": [
      "Enter the marks\n",
      "92\n",
      "Your marks are:  90\n"
     ]
    }
   ],
   "source": [
    "marks = int(input(\"Enter the marks\\n\"))\n",
    "while marks >= 40:\n",
    "    if marks%5 >= 3:\n",
    "        marks = marks-(marks%5)+5\n",
    "    else:\n",
    "         marks = marks-(marks%5)\n",
    "    break\n",
    "print(\"Your marks are: \",marks)"
   ]
  }
 ],
 "metadata": {
  "kernelspec": {
   "display_name": "Python 3 (ipykernel)",
   "language": "python",
   "name": "python3"
  },
  "language_info": {
   "codemirror_mode": {
    "name": "ipython",
    "version": 3
   },
   "file_extension": ".py",
   "mimetype": "text/x-python",
   "name": "python",
   "nbconvert_exporter": "python",
   "pygments_lexer": "ipython3",
   "version": "3.9.12"
  }
 },
 "nbformat": 4,
 "nbformat_minor": 5
}
