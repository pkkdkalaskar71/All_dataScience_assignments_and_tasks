{
 "cells": [
  {
   "cell_type": "code",
   "execution_count": 1,
   "id": "a7b7ce91",
   "metadata": {},
   "outputs": [
    {
     "name": "stdout",
     "output_type": "stream",
     "text": [
      "      \n",
      "['False', 'None', 'True', '__peg_parser__', 'and', 'as', 'assert', 'async', 'await', 'break', 'class', 'continue', 'def', 'del', 'elif', 'else', 'except', 'finally', 'for', 'from', 'global', 'if', 'import', 'in', 'is', 'lambda', 'nonlocal', 'not', 'or', 'pass', 'raise', 'return', 'try', 'while', 'with', 'yield']\n"
     ]
    }
   ],
   "source": [
    "import keyword                    # make the module keyword availabe\n",
    "print(\"      \")\n",
    "print(keyword.kwlist)            #print the keyword list\n",
    "\n"
   ]
  },
  {
   "cell_type": "code",
   "execution_count": 31,
   "id": "e8b22886",
   "metadata": {},
   "outputs": [
    {
     "name": "stdout",
     "output_type": "stream",
     "text": [
      "<class 'int'>\n",
      "<class 'float'>\n"
     ]
    }
   ],
   "source": [
    "print(type(35))                  #type() gives the data type of variable \n",
    "print(type(3.14))\n"
   ]
  },
  {
   "cell_type": "code",
   "execution_count": 33,
   "id": "68df8c26",
   "metadata": {},
   "outputs": [
    {
     "name": "stdout",
     "output_type": "stream",
     "text": [
      "<class 'str'>\n",
      "<class 'bool'>\n"
     ]
    }
   ],
   "source": [
    "print(type(\"Shivansh\"))\n",
    "print(type(True))"
   ]
  },
  {
   "cell_type": "code",
   "execution_count": 45,
   "id": "8177ad14",
   "metadata": {},
   "outputs": [
    {
     "name": "stdout",
     "output_type": "stream",
     "text": [
      "Addition is    : 6\n",
      "Sbstraction is : 2\n",
      "Division is    : 2.0\n",
      "Remainder is   : 1\n",
      "Exponent is    : 81\n",
      "Quotient is    : 1\n"
     ]
    }
   ],
   "source": [
    "# arithmatic operators\n",
    "a = 4 + 2                    \n",
    "b = 4 - 2\n",
    "c = 4 / 2\n",
    "d = 7 % 2\n",
    "e = 3 ** 4                    # 3 raise to 4\n",
    "f = 4 // 3 \n",
    "print(\"Addition is    :\",a)\n",
    "print(\"Sbstraction is :\",b)\n",
    "print(\"Division is    :\",c)\n",
    "print(\"Remainder is   :\",d)\n",
    "print(\"Exponent is    :\",e)\n",
    "print(\"Quotient is    :\",f)\n"
   ]
  },
  {
   "cell_type": "code",
   "execution_count": 40,
   "id": "1a335a13",
   "metadata": {},
   "outputs": [
    {
     "name": "stdout",
     "output_type": "stream",
     "text": [
      "10077696\n",
      "2\n"
     ]
    }
   ],
   "source": [
    "a**=3                 # same as a=a**3\n",
    "print(a)\n",
    "b%=10                 # same as b=b%10\n",
    "print(b)"
   ]
  },
  {
   "cell_type": "code",
   "execution_count": 42,
   "id": "0db4eb0d",
   "metadata": {},
   "outputs": [
    {
     "name": "stdout",
     "output_type": "stream",
     "text": [
      "0.75\n",
      "3\n",
      "0\n",
      "81\n",
      "20 900 3\n",
      "5432099999945679\n"
     ]
    }
   ],
   "source": [
    "# use  of integer types\n",
    "\n",
    "print(3 / 4)\n",
    "print(3 % 4)\n",
    "print(3 // 4)\n",
    "print(3 ** 4)\n",
    "\n",
    "a = 10; b = 25; c = 15; d = 30; e = 2; f = 3; g = 5\n",
    "w = a + b - c\n",
    "x = d * * e\n",
    "y = f % g\n",
    "print(w,x,y)\n",
    "h = 99999999999\n",
    "i = 54321\n",
    "print(h*i)\n",
    "\n",
    "\n",
    "#  *Tips*\n",
    "# 3/4 dosen't yield 0\n",
    "# multiple statements in a line should be separated using :\n",
    "# print(w,x,y) prints values separated by a space\n"
   ]
  },
  {
   "cell_type": "code",
   "execution_count": 47,
   "id": "4c6ae66d",
   "metadata": {},
   "outputs": [
    {
     "name": "stdout",
     "output_type": "stream",
     "text": [
      "1.1\n",
      "(1+2j)\n",
      "(3+6j)\n",
      "(-9+12j)\n",
      "1.0\n",
      "2.0\n",
      "(1-2j)\n",
      "(1+2j)\n",
      "True\n",
      "False\n"
     ]
    }
   ],
   "source": [
    "# use of float\n",
    "i = 3.5\n",
    "j = 1.2\n",
    "print(i % j)\n",
    "\n",
    "# use of complex\n",
    "a = 1 + 2j\n",
    "b = 3 *(1+2j)\n",
    "c = a * b\n",
    "print(a)\n",
    "print(b)\n",
    "print(c)\n",
    "print(a.real)\n",
    "print(a.imag)\n",
    "print(a.conjugate())\n",
    "\n",
    "# use of bool\n",
    "x = True\n",
    "print(a)\n",
    "y = 3 > 4\n",
    "print(x)\n",
    "print(y)\n",
    "\n",
    "# Tips :\n",
    "# % works on floats\n",
    "# it is possible to obtain 'real' and 'imag' part from a complex number\n",
    "# on eveluation of condition it is separated by 'True' or 'False'"
   ]
  },
  {
   "cell_type": "code",
   "execution_count": null,
   "id": "7b2a0997",
   "metadata": {},
   "outputs": [],
   "source": [
    "# conver to int\n",
    "print(int(3.14))\n",
    "a = int('485')\n",
    "b = int('768')\n",
    "c = a + b\n",
    "print(c)\n",
    "print(int('1011',2))\n",
    "print(int('341',8))\n"
   ]
  }
 ],
 "metadata": {
  "kernelspec": {
   "display_name": "Python 3 (ipykernel)",
   "language": "python",
   "name": "python3"
  },
  "language_info": {
   "codemirror_mode": {
    "name": "ipython",
    "version": 3
   },
   "file_extension": ".py",
   "mimetype": "text/x-python",
   "name": "python",
   "nbconvert_exporter": "python",
   "pygments_lexer": "ipython3",
   "version": "3.9.12"
  }
 },
 "nbformat": 4,
 "nbformat_minor": 5
}
