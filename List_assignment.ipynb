{
 "cells": [
  {
   "cell_type": "code",
   "execution_count": 1,
   "id": "3248efad",
   "metadata": {},
   "outputs": [
    {
     "name": "stdout",
     "output_type": "stream",
     "text": [
      "Enter your information like (name, employe_id, age, salary,)My name is XYZ. My employee id is E1289 and age is 35 and salary is 120000 rs\n",
      "A: ['35', '120000']\n"
     ]
    }
   ],
   "source": [
    "p=0\n",
    "A=[]\n",
    "User_info=input('Enter your information like (name, employe_id, age, salary,)')\n",
    "#print(\"User_info:= \", User_info)\n",
    "y=User_info.split(\" \")\n",
    "#print(y)\n",
    "for i in y:\n",
    "    if i[0].isdigit():\n",
    "        A.append(i)\n",
    "print(\"A:\",A)"
   ]
  }
 ],
 "metadata": {
  "kernelspec": {
   "display_name": "Python 3 (ipykernel)",
   "language": "python",
   "name": "python3"
  },
  "language_info": {
   "codemirror_mode": {
    "name": "ipython",
    "version": 3
   },
   "file_extension": ".py",
   "mimetype": "text/x-python",
   "name": "python",
   "nbconvert_exporter": "python",
   "pygments_lexer": "ipython3",
   "version": "3.9.12"
  }
 },
 "nbformat": 4,
 "nbformat_minor": 5
}
