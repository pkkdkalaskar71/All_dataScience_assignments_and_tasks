{
 "cells": [
  {
   "cell_type": "code",
   "execution_count": 1,
   "id": "3c3f40a9",
   "metadata": {},
   "outputs": [
    {
     "name": "stdout",
     "output_type": "stream",
     "text": [
      "Enter vehical no. in fromat AABBCCDDDD : MH12AB1234\n",
      "VALID\n"
     ]
    }
   ],
   "source": [
    "vehicle_reg=input(\"Enter vehical no. in fromat AABBCCDDDD : \")\n",
    "if vehicle_reg[0:2].isalpha() and vehicle_reg[2:4].isnumeric() and vehicle_reg[4:6].isalpha() and vehicle_reg[6:10].isnumeric() and len(vehicle_reg)==10:\n",
    "    print('VALID')\n",
    "else:\n",
    "    print('INVALID')"
   ]
  },
  {
   "cell_type": "code",
   "execution_count": 2,
   "id": "e8626f12",
   "metadata": {},
   "outputs": [
    {
     "name": "stdout",
     "output_type": "stream",
     "text": [
      "Enter vehical no. in fromat AABBCCDDDD : KA01AA0007\n",
      "VALID\n"
     ]
    }
   ],
   "source": [
    "vehicle_reg=input(\"Enter vehical no. in fromat AABBCCDDDD : \")\n",
    "if vehicle_reg[0:2].isalpha() and vehicle_reg[2:4].isnumeric() and vehicle_reg[4:6].isalpha() and vehicle_reg[6:10].isnumeric() and len(vehicle_reg)==10:\n",
    "    print('VALID')\n",
    "else:\n",
    "    print('INVALID')"
   ]
  },
  {
   "cell_type": "code",
   "execution_count": 3,
   "id": "d8a67c53",
   "metadata": {},
   "outputs": [
    {
     "name": "stdout",
     "output_type": "stream",
     "text": [
      "Enter vehical no. in fromat AABBCCDDDD : P12A1234\n",
      "INVALID\n"
     ]
    }
   ],
   "source": [
    "vehicle_reg=input(\"Enter vehical no. in fromat AABBCCDDDD : \")\n",
    "if vehicle_reg[0:2].isalpha() and vehicle_reg[2:4].isnumeric() and vehicle_reg[4:6].isalpha() and vehicle_reg[6:10].isnumeric() and len(vehicle_reg)==10:\n",
    "    print('VALID')\n",
    "else:\n",
    "    print('INVALID')"
   ]
  },
  {
   "cell_type": "code",
   "execution_count": 4,
   "id": "45bce532",
   "metadata": {},
   "outputs": [
    {
     "name": "stdout",
     "output_type": "stream",
     "text": [
      "Enter vehical no. in fromat AABBCCDDDD : MH123WA4567\n",
      "INVALID\n"
     ]
    }
   ],
   "source": [
    "vehicle_reg=input(\"Enter vehical no. in fromat AABBCCDDDD : \")\n",
    "if vehicle_reg[0:2].isalpha() and vehicle_reg[2:4].isnumeric() and vehicle_reg[4:6].isalpha() and vehicle_reg[6:10].isnumeric() and len(vehicle_reg)==10:\n",
    "    print('VALID')\n",
    "else:\n",
    "    print('INVALID')"
   ]
  },
  {
   "cell_type": "code",
   "execution_count": 5,
   "id": "0c660201",
   "metadata": {},
   "outputs": [
    {
     "name": "stdout",
     "output_type": "stream",
     "text": [
      "Enter vehical no. in fromat AABBCCDDDD :  MH14X4545\n",
      "INVALID\n"
     ]
    }
   ],
   "source": [
    "vehicle_reg=input(\"Enter vehical no. in fromat AABBCCDDDD : \")\n",
    "if vehicle_reg[0:2].isalpha() and vehicle_reg[2:4].isnumeric() and vehicle_reg[4:6].isalpha() and vehicle_reg[6:10].isnumeric() and len(vehicle_reg)==10:\n",
    "    print('VALID')\n",
    "else:\n",
    "    print('INVALID')"
   ]
  },
  {
   "cell_type": "code",
   "execution_count": 6,
   "id": "5d385ed8",
   "metadata": {},
   "outputs": [
    {
     "name": "stdout",
     "output_type": "stream",
     "text": [
      "Enter vehical no. in fromat AABBCCDDDD : MH1AB12\n",
      "INVALID\n"
     ]
    }
   ],
   "source": [
    "vehicle_reg=input(\"Enter vehical no. in fromat AABBCCDDDD : \")\n",
    "if vehicle_reg[0:2].isalpha() and vehicle_reg[2:4].isnumeric() and vehicle_reg[4:6].isalpha() and vehicle_reg[6:10].isnumeric() and len(vehicle_reg)==10:\n",
    "    print('VALID')\n",
    "else:\n",
    "    print('INVALID')"
   ]
  }
 ],
 "metadata": {
  "kernelspec": {
   "display_name": "Python 3 (ipykernel)",
   "language": "python",
   "name": "python3"
  },
  "language_info": {
   "codemirror_mode": {
    "name": "ipython",
    "version": 3
   },
   "file_extension": ".py",
   "mimetype": "text/x-python",
   "name": "python",
   "nbconvert_exporter": "python",
   "pygments_lexer": "ipython3",
   "version": "3.9.12"
  }
 },
 "nbformat": 4,
 "nbformat_minor": 5
}
