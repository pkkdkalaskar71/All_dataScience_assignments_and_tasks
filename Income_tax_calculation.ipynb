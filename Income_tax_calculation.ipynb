{
 "cells": [
  {
   "cell_type": "code",
   "execution_count": 1,
   "id": "39b27de4",
   "metadata": {},
   "outputs": [
    {
     "name": "stdout",
     "output_type": "stream",
     "text": [
      "Enter your pocket money = 180000\n",
      "Amount of income tax on your income is  0 rupees\n"
     ]
    }
   ],
   "source": [
    "income=int(input(\"Enter your pocket money = \"))\n",
    "\n",
    "if income <= 250000:  #(for 2 lacs 50 thousand amt)\n",
    "    tax = 0\n",
    "\n",
    "elif income <= 500000: #(for 5 lacs amt)\n",
    "    tax = (income - 250000) * 0.05\n",
    "\n",
    "elif income <= 1000000: #(for 10 lacs amt)\n",
    "    tax = (income - 500000) * 0.10 + 12500\n",
    "\n",
    "else:\n",
    "    tax = (income - 1000000) * 0.30 + 62500\n",
    "\n",
    "print(\"Amount of income tax on your income is \", tax, \"rupees\")"
   ]
  },
  {
   "cell_type": "code",
   "execution_count": 2,
   "id": "0204965f",
   "metadata": {},
   "outputs": [
    {
     "name": "stdout",
     "output_type": "stream",
     "text": [
      "Enter your pocket money = 400000\n",
      "Amount of income tax on your income is  7500.0 rupees\n"
     ]
    }
   ],
   "source": [
    "income=int(input(\"Enter your pocket money = \"))\n",
    "\n",
    "if income <= 250000:  #(for 2 lacs 50 thousand amt)\n",
    "    tax = 0\n",
    "\n",
    "elif income <= 500000: #(for 5 lacs amt)\n",
    "    tax = (income - 250000) * 0.05\n",
    "\n",
    "elif income <= 1000000: #(for 10 lacs amt)\n",
    "    tax = (income - 500000) * 0.10 + 12500\n",
    "\n",
    "else:\n",
    "    tax = (income - 1000000) * 0.30 + 62500\n",
    "\n",
    "print(\"Amount of income tax on your income is \", tax, \"rupees\")"
   ]
  },
  {
   "cell_type": "code",
   "execution_count": 3,
   "id": "a8ab160a",
   "metadata": {},
   "outputs": [
    {
     "name": "stdout",
     "output_type": "stream",
     "text": [
      "Enter your pocket money = 800000\n",
      "Amount of income tax on your income is  42500.0 rupees\n"
     ]
    }
   ],
   "source": [
    "income=int(input(\"Enter your pocket money = \"))\n",
    "\n",
    "if income <= 250000:  #(for 2 lacs 50 thousand amt)\n",
    "    tax = 0\n",
    "\n",
    "elif income <= 500000: #(for 5 lacs amt)\n",
    "    tax = (income - 250000) * 0.05\n",
    "\n",
    "elif income <= 1000000: #(for 10 lacs amt)\n",
    "    tax = (income - 500000) * 0.10 + 12500\n",
    "\n",
    "else:\n",
    "    tax = (income - 1000000) * 0.30 + 62500\n",
    "\n",
    "print(\"Amount of income tax on your income is \", tax, \"rupees\")"
   ]
  },
  {
   "cell_type": "code",
   "execution_count": 4,
   "id": "f70d3992",
   "metadata": {},
   "outputs": [
    {
     "name": "stdout",
     "output_type": "stream",
     "text": [
      "Enter your pocket money = 1200000\n",
      "Amount of income tax on your income is  122500.0 rupees\n"
     ]
    }
   ],
   "source": [
    "income=int(input(\"Enter your pocket money = \"))\n",
    "\n",
    "if income <= 250000:  #(for 2 lacs 50 thousand amt)\n",
    "    tax = 0\n",
    "\n",
    "elif income <= 500000: #(for 5 lacs amt)\n",
    "    tax = (income - 250000) * 0.05\n",
    "\n",
    "elif income <= 1000000: #(for 10 lacs amt)\n",
    "    tax = (income - 500000) * 0.10 + 12500\n",
    "\n",
    "else:\n",
    "    tax = (income - 1000000) * 0.30 + 62500\n",
    "\n",
    "print(\"Amount of income tax on your income is \", tax, \"rupees\")"
   ]
  }
 ],
 "metadata": {
  "kernelspec": {
   "display_name": "Python 3 (ipykernel)",
   "language": "python",
   "name": "python3"
  },
  "language_info": {
   "codemirror_mode": {
    "name": "ipython",
    "version": 3
   },
   "file_extension": ".py",
   "mimetype": "text/x-python",
   "name": "python",
   "nbconvert_exporter": "python",
   "pygments_lexer": "ipython3",
   "version": "3.9.12"
  }
 },
 "nbformat": 4,
 "nbformat_minor": 5
}
