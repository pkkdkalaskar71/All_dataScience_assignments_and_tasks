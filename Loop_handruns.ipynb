{
 "cells": [
  {
   "cell_type": "code",
   "execution_count": 1,
   "id": "b827ac09",
   "metadata": {},
   "outputs": [
    {
     "name": "stdout",
     "output_type": "stream",
     "text": [
      "* 4\n",
      "* 8\n",
      "$ 12\n",
      "* 16\n",
      "* 20\n",
      "$ 24\n",
      "* 28\n",
      "* 32\n",
      "$ 36\n",
      "* 40\n",
      "* 44\n",
      "$ 48\n"
     ]
    }
   ],
   "source": [
    "# Code no. 1\n",
    "# Find the output of the following code\n",
    "for i in range(1,50):\n",
    "    if i%4==0:\n",
    "        if i%6==0:\n",
    "            print('$',i)\n",
    "        else:\n",
    "            print('*',i)"
   ]
  },
  {
   "cell_type": "code",
   "execution_count": 2,
   "id": "70b3812b",
   "metadata": {},
   "outputs": [
    {
     "name": "stdout",
     "output_type": "stream",
     "text": [
      "0 1 2 3 4 \n",
      "1 2 3 4 5 \n",
      "2 3 4 5 6 \n",
      "3 4 5 6 7 \n",
      "4 5 6 7 8 \n"
     ]
    }
   ],
   "source": [
    "# Code no. 2\n",
    "# Find the output of the following code\n",
    "for i in range(5):\n",
    "    for j in range(5):\n",
    "        print(i+j, end=' ')\n",
    "    print()"
   ]
  },
  {
   "cell_type": "code",
   "execution_count": 3,
   "id": "891155f7",
   "metadata": {},
   "outputs": [
    {
     "name": "stdout",
     "output_type": "stream",
     "text": [
      "0 1 \n",
      "1 2 \n",
      "2 3 \n",
      "3 4 \n",
      "4 5 \n"
     ]
    }
   ],
   "source": [
    "# Code no. 3\n",
    "# Find the output of the following code\n",
    "for i in range(5):\n",
    "    for j in range(5):\n",
    "        if j<=1:\n",
    "            print(i+j, end=' ')\n",
    "    print()"
   ]
  },
  {
   "cell_type": "code",
   "execution_count": 4,
   "id": "c8a8888c",
   "metadata": {},
   "outputs": [
    {
     "name": "stdout",
     "output_type": "stream",
     "text": [
      "    *\n",
      "   **\n",
      "  ***\n",
      " ****\n",
      "*****\n"
     ]
    }
   ],
   "source": [
    "# Code no. 4\n",
    "# Find the output of the following code\n",
    "for i in range(5):\n",
    "    for j in range(5):\n",
    "        if i+j>=4:\n",
    "            print('*', end='')\n",
    "        else:\n",
    "            print(' ', end='')\n",
    "    print()"
   ]
  },
  {
   "cell_type": "code",
   "execution_count": 5,
   "id": "675242d4",
   "metadata": {},
   "outputs": [
    {
     "name": "stdout",
     "output_type": "stream",
     "text": [
      "$   $\n",
      " $ $ \n",
      "  $  \n",
      " $ $ \n",
      "$   $\n"
     ]
    }
   ],
   "source": [
    "# Code no. 5\n",
    "# Find the output of the following code\n",
    "for i in range(5):\n",
    "    for j in range(5):\n",
    "        if i==j or i+j==4:\n",
    "            print('$', end='')\n",
    "        else:\n",
    "            print(' ', end='')\n",
    "    print()"
   ]
  },
  {
   "cell_type": "code",
   "execution_count": 6,
   "id": "f34d827a",
   "metadata": {},
   "outputs": [
    {
     "name": "stdout",
     "output_type": "stream",
     "text": [
      "     * \n",
      "    * * \n",
      "   * * * \n",
      "  * * * * \n",
      " * * * * * \n"
     ]
    }
   ],
   "source": [
    "# Code no. 6\n",
    "# Find the output of the following code\n",
    "for i in range(5):\n",
    "    j,k=5-i,0             #j=5-i k=0\n",
    "    while j>0:\n",
    "        print(' ', end='')  # end is empty string\n",
    "        j-=1\n",
    "    while k<=i:\n",
    "        print('*', end=' ')  # end is ' ' string\n",
    "        k+=1\n",
    "    print()"
   ]
  }
 ],
 "metadata": {
  "kernelspec": {
   "display_name": "Python 3 (ipykernel)",
   "language": "python",
   "name": "python3"
  },
  "language_info": {
   "codemirror_mode": {
    "name": "ipython",
    "version": 3
   },
   "file_extension": ".py",
   "mimetype": "text/x-python",
   "name": "python",
   "nbconvert_exporter": "python",
   "pygments_lexer": "ipython3",
   "version": "3.9.12"
  }
 },
 "nbformat": 4,
 "nbformat_minor": 5
}
