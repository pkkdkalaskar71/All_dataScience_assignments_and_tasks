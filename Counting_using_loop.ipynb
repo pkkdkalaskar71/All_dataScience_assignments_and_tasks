{
 "cells": [
  {
   "cell_type": "code",
   "execution_count": 1,
   "id": "bd72d7f7",
   "metadata": {},
   "outputs": [
    {
     "name": "stdout",
     "output_type": "stream",
     "text": [
      "Enter string: COCONUT\n",
      "vowel count in String is:  3\n"
     ]
    }
   ],
   "source": [
    "STR1=str(input(\"Enter string: \"))\n",
    "count=0\n",
    "for i in STR1:\n",
    "    if( i=='a'or i=='e'or i=='i'or i=='o'or i=='u' or i=='A'or i==\"E\"or i==\"I\"or i==\"O\"or i==\"U\"):\n",
    "        count=count+1\n",
    "print(\"vowel count in String is: \",count)"
   ]
  },
  {
   "cell_type": "code",
   "execution_count": 2,
   "id": "b67aa8ff",
   "metadata": {},
   "outputs": [
    {
     "name": "stdout",
     "output_type": "stream",
     "text": [
      "Enter string: CONFIDence\n",
      "vowel count in String is:  4\n"
     ]
    }
   ],
   "source": [
    "STR1=str(input(\"Enter string: \"))\n",
    "count=0\n",
    "for i in STR1:\n",
    "    if( i=='a'or i=='e'or i=='i'or i=='o'or i=='u' or i=='A'or i==\"E\"or i==\"I\"or i==\"O\"or i==\"U\"):\n",
    "        count=count+1\n",
    "print(\"vowel count in String is: \",count)"
   ]
  }
 ],
 "metadata": {
  "kernelspec": {
   "display_name": "Python 3 (ipykernel)",
   "language": "python",
   "name": "python3"
  },
  "language_info": {
   "codemirror_mode": {
    "name": "ipython",
    "version": 3
   },
   "file_extension": ".py",
   "mimetype": "text/x-python",
   "name": "python",
   "nbconvert_exporter": "python",
   "pygments_lexer": "ipython3",
   "version": "3.9.12"
  }
 },
 "nbformat": 4,
 "nbformat_minor": 5
}
