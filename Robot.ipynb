{
 "cells": [
  {
   "cell_type": "code",
   "execution_count": 8,
   "id": "73a16592",
   "metadata": {},
   "outputs": [
    {
     "name": "stdout",
     "output_type": "stream",
     "text": [
      "up 5\n",
      "left 3\n",
      "down 6\n",
      "right 5\n",
      "stop\n",
      "(2, -1)\n"
     ]
    }
   ],
   "source": [
    "flag=True\n",
    "rp=(0,0)\n",
    "while(flag):\n",
    "    ins=input().lower()\n",
    "\n",
    "    rp=list(rp)\n",
    "    if \"up \"==ins[0:3]:\n",
    "        ins=int(ins.replace(\"up\",\"\"))\n",
    "        rp[1]+=ins\n",
    "    elif \"down \"==ins[0:5]:\n",
    "        ins=int(ins.replace(\"down\",\"\"))\n",
    "        rp[1]-=ins\n",
    "    elif \"right \"==ins[0:6]:\n",
    "        ins=int(ins.replace(\"right\",\"\"))\n",
    "        rp[0]+=ins\n",
    "    elif \"left \"==ins[0:5]:\n",
    "        ins=int(ins.replace(\"left\",\"\"))\n",
    "        rp[0]-=ins\n",
    "    elif \"stop\" ==ins:\n",
    "        print(tuple(rp))\n",
    "        flag=False\n",
    "        break\n",
    "    else:\n",
    "        print(\"invalid\")"
   ]
  },
  {
   "cell_type": "code",
   "execution_count": null,
   "id": "e0565e86",
   "metadata": {},
   "outputs": [],
   "source": []
  }
 ],
 "metadata": {
  "kernelspec": {
   "display_name": "Python 3 (ipykernel)",
   "language": "python",
   "name": "python3"
  },
  "language_info": {
   "codemirror_mode": {
    "name": "ipython",
    "version": 3
   },
   "file_extension": ".py",
   "mimetype": "text/x-python",
   "name": "python",
   "nbconvert_exporter": "python",
   "pygments_lexer": "ipython3",
   "version": "3.9.12"
  }
 },
 "nbformat": 4,
 "nbformat_minor": 5
}
