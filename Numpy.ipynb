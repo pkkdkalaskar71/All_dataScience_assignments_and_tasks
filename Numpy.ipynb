{
 "cells": [
  {
   "cell_type": "code",
   "execution_count": 9,
   "id": "f23e3421",
   "metadata": {},
   "outputs": [
    {
     "name": "stdout",
     "output_type": "stream",
     "text": [
      "Array( [0, 4, 5, 8, 10, 12, 15, 16, 20, 24, 25, 28, 30, 32, 35, 36, 40, 44, 45, 48, 50, 52, 55, 56, 60, 64, 65, 68, 70, 72, 75, 76, 80, 84, 85, 88, 90, 92, 95, 96] )\n"
     ]
    }
   ],
   "source": [
    "import numpy as np\n",
    "arr1=np.arange(0,100)\n",
    "arr1\n",
    "Array=([])\n",
    "for i in arr1:\n",
    "    if i%4==0 or i%5==0:\n",
    "        Array.append(arr1[i])\n",
    "print(\"Array(\",Array,\")\")"
   ]
  },
  {
   "cell_type": "code",
   "execution_count": null,
   "id": "af934762",
   "metadata": {},
   "outputs": [],
   "source": []
  }
 ],
 "metadata": {
  "kernelspec": {
   "display_name": "Python 3 (ipykernel)",
   "language": "python",
   "name": "python3"
  },
  "language_info": {
   "codemirror_mode": {
    "name": "ipython",
    "version": 3
   },
   "file_extension": ".py",
   "mimetype": "text/x-python",
   "name": "python",
   "nbconvert_exporter": "python",
   "pygments_lexer": "ipython3",
   "version": "3.9.12"
  }
 },
 "nbformat": 4,
 "nbformat_minor": 5
}
