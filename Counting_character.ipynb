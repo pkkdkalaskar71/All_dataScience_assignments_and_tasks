{
 "cells": [
  {
   "cell_type": "code",
   "execution_count": 2,
   "id": "dd0373ba",
   "metadata": {},
   "outputs": [
    {
     "name": "stdout",
     "output_type": "stream",
     "text": [
      "Type in: hello world! 123\n",
      "Alphabets:10 Digit:3 \n"
     ]
    }
   ],
   "source": [
    "# counting character\n",
    "sentence = input(\"Type in: \")\n",
    "sentence = list(sentence)\n",
    "\n",
    "alpha, digit = 0, 0\n",
    "for i in sentence:\n",
    "    if i.isalpha():\n",
    "        alpha = alpha + 1\n",
    "    if i.isdigit():\n",
    "        digit = digit + 1\n",
    "    else:\n",
    "        continue\n",
    "\n",
    "print(\"Alphabets:{} Digit:{} \".format(alpha,digit))\n"
   ]
  },
  {
   "cell_type": "code",
   "execution_count": null,
   "id": "08e5b115",
   "metadata": {},
   "outputs": [],
   "source": []
  }
 ],
 "metadata": {
  "kernelspec": {
   "display_name": "Python 3 (ipykernel)",
   "language": "python",
   "name": "python3"
  },
  "language_info": {
   "codemirror_mode": {
    "name": "ipython",
    "version": 3
   },
   "file_extension": ".py",
   "mimetype": "text/x-python",
   "name": "python",
   "nbconvert_exporter": "python",
   "pygments_lexer": "ipython3",
   "version": "3.9.12"
  }
 },
 "nbformat": 4,
 "nbformat_minor": 5
}
