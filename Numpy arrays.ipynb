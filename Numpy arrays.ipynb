{
 "cells": [
  {
   "cell_type": "code",
   "execution_count": 2,
   "id": "86a46adc",
   "metadata": {},
   "outputs": [],
   "source": [
    "import numpy as np"
   ]
  },
  {
   "cell_type": "code",
   "execution_count": 2,
   "id": "e31f0c5b",
   "metadata": {},
   "outputs": [
    {
     "data": {
      "text/plain": [
       "list"
      ]
     },
     "execution_count": 2,
     "metadata": {},
     "output_type": "execute_result"
    }
   ],
   "source": [
    "A = [10,20,30]\n",
    "B = [[10,20],\n",
    "     [30,40],\n",
    "     [50,60]]\n",
    "type(A)"
   ]
  },
  {
   "cell_type": "code",
   "execution_count": 3,
   "id": "2ddc0c70",
   "metadata": {},
   "outputs": [],
   "source": [
    "arr1 = np.array(A)\n",
    "arr2 = np.array(B)"
   ]
  },
  {
   "cell_type": "code",
   "execution_count": 4,
   "id": "f463e5c8",
   "metadata": {},
   "outputs": [
    {
     "data": {
      "text/plain": [
       "array([10, 20, 30])"
      ]
     },
     "execution_count": 4,
     "metadata": {},
     "output_type": "execute_result"
    }
   ],
   "source": [
    "arr1"
   ]
  },
  {
   "cell_type": "code",
   "execution_count": 5,
   "id": "ef694f04",
   "metadata": {},
   "outputs": [
    {
     "data": {
      "text/plain": [
       "1"
      ]
     },
     "execution_count": 5,
     "metadata": {},
     "output_type": "execute_result"
    }
   ],
   "source": [
    "arr1.ndim"
   ]
  },
  {
   "cell_type": "code",
   "execution_count": 6,
   "id": "cc1e1f29",
   "metadata": {},
   "outputs": [
    {
     "data": {
      "text/plain": [
       "2"
      ]
     },
     "execution_count": 6,
     "metadata": {},
     "output_type": "execute_result"
    }
   ],
   "source": [
    "arr2.ndim"
   ]
  },
  {
   "cell_type": "code",
   "execution_count": 7,
   "id": "9372e301",
   "metadata": {},
   "outputs": [
    {
     "data": {
      "text/plain": [
       "(3,)"
      ]
     },
     "execution_count": 7,
     "metadata": {},
     "output_type": "execute_result"
    }
   ],
   "source": [
    "arr1.shape"
   ]
  },
  {
   "cell_type": "code",
   "execution_count": 8,
   "id": "b8ebe68c",
   "metadata": {},
   "outputs": [
    {
     "data": {
      "text/plain": [
       "(3, 2)"
      ]
     },
     "execution_count": 8,
     "metadata": {},
     "output_type": "execute_result"
    }
   ],
   "source": [
    "arr2.shape"
   ]
  },
  {
   "cell_type": "code",
   "execution_count": 9,
   "id": "82b7a2a0",
   "metadata": {},
   "outputs": [
    {
     "data": {
      "text/plain": [
       "dtype('int32')"
      ]
     },
     "execution_count": 9,
     "metadata": {},
     "output_type": "execute_result"
    }
   ],
   "source": [
    "arr1.dtype"
   ]
  },
  {
   "cell_type": "markdown",
   "id": "5e414fc6",
   "metadata": {},
   "source": [
    "# Indexing"
   ]
  },
  {
   "cell_type": "code",
   "execution_count": 10,
   "id": "4b7ffaa6",
   "metadata": {},
   "outputs": [
    {
     "data": {
      "text/plain": [
       "array([10, 20, 30])"
      ]
     },
     "execution_count": 10,
     "metadata": {},
     "output_type": "execute_result"
    }
   ],
   "source": [
    "arr1"
   ]
  },
  {
   "cell_type": "code",
   "execution_count": 11,
   "id": "c965875e",
   "metadata": {},
   "outputs": [],
   "source": [
    "arr1[0] = 50"
   ]
  },
  {
   "cell_type": "code",
   "execution_count": 12,
   "id": "7879095d",
   "metadata": {},
   "outputs": [
    {
     "data": {
      "text/plain": [
       "array([50, 20, 30])"
      ]
     },
     "execution_count": 12,
     "metadata": {},
     "output_type": "execute_result"
    }
   ],
   "source": [
    "arr1"
   ]
  },
  {
   "cell_type": "code",
   "execution_count": 13,
   "id": "bd8211b2",
   "metadata": {},
   "outputs": [
    {
     "data": {
      "text/plain": [
       "30"
      ]
     },
     "execution_count": 13,
     "metadata": {},
     "output_type": "execute_result"
    }
   ],
   "source": [
    "arr1[-1]"
   ]
  },
  {
   "cell_type": "code",
   "execution_count": 14,
   "id": "a0b3fd4f",
   "metadata": {},
   "outputs": [
    {
     "ename": "IndexError",
     "evalue": "index 3 is out of bounds for axis 0 with size 3",
     "output_type": "error",
     "traceback": [
      "\u001b[1;31m---------------------------------------------------------------------------\u001b[0m",
      "\u001b[1;31mIndexError\u001b[0m                                Traceback (most recent call last)",
      "\u001b[1;32m<ipython-input-14-f25f38b20363>\u001b[0m in \u001b[0;36m<module>\u001b[1;34m\u001b[0m\n\u001b[1;32m----> 1\u001b[1;33m \u001b[0marr1\u001b[0m\u001b[1;33m[\u001b[0m\u001b[1;36m3\u001b[0m\u001b[1;33m]\u001b[0m\u001b[1;33m\u001b[0m\u001b[1;33m\u001b[0m\u001b[0m\n\u001b[0m",
      "\u001b[1;31mIndexError\u001b[0m: index 3 is out of bounds for axis 0 with size 3"
     ]
    }
   ],
   "source": [
    "arr1[3]"
   ]
  },
  {
   "cell_type": "code",
   "execution_count": 15,
   "id": "6217b8bf",
   "metadata": {},
   "outputs": [
    {
     "data": {
      "text/plain": [
       "array([[10, 20],\n",
       "       [30, 40],\n",
       "       [50, 60]])"
      ]
     },
     "execution_count": 15,
     "metadata": {},
     "output_type": "execute_result"
    }
   ],
   "source": [
    "arr2"
   ]
  },
  {
   "cell_type": "code",
   "execution_count": 16,
   "id": "375974a2",
   "metadata": {},
   "outputs": [
    {
     "data": {
      "text/plain": [
       "3"
      ]
     },
     "execution_count": 16,
     "metadata": {},
     "output_type": "execute_result"
    }
   ],
   "source": [
    "len(arr2)"
   ]
  },
  {
   "cell_type": "code",
   "execution_count": 18,
   "id": "a7d51fe5",
   "metadata": {},
   "outputs": [
    {
     "data": {
      "text/plain": [
       "10"
      ]
     },
     "execution_count": 18,
     "metadata": {},
     "output_type": "execute_result"
    }
   ],
   "source": [
    "arr2[0][0]"
   ]
  },
  {
   "cell_type": "code",
   "execution_count": 19,
   "id": "72544bf1",
   "metadata": {},
   "outputs": [
    {
     "data": {
      "text/plain": [
       "60"
      ]
     },
     "execution_count": 19,
     "metadata": {},
     "output_type": "execute_result"
    }
   ],
   "source": [
    "arr2[2][1]"
   ]
  },
  {
   "cell_type": "code",
   "execution_count": 20,
   "id": "d03ec1a1",
   "metadata": {},
   "outputs": [
    {
     "data": {
      "text/plain": [
       "60"
      ]
     },
     "execution_count": 20,
     "metadata": {},
     "output_type": "execute_result"
    }
   ],
   "source": [
    "arr2[2,1]"
   ]
  },
  {
   "cell_type": "code",
   "execution_count": 21,
   "id": "d3e4cd2d",
   "metadata": {},
   "outputs": [
    {
     "data": {
      "text/plain": [
       "60"
      ]
     },
     "execution_count": 21,
     "metadata": {},
     "output_type": "execute_result"
    }
   ],
   "source": [
    "arr2[-1,-1]"
   ]
  },
  {
   "cell_type": "code",
   "execution_count": 22,
   "id": "ecd2333e",
   "metadata": {},
   "outputs": [],
   "source": [
    "C = np.array([[4,5,6],[9,8,7],[500,3,1],[50,70,90]])"
   ]
  },
  {
   "cell_type": "code",
   "execution_count": 23,
   "id": "eb19201d",
   "metadata": {},
   "outputs": [
    {
     "data": {
      "text/plain": [
       "array([[  4,   5,   6],\n",
       "       [  9,   8,   7],\n",
       "       [500,   3,   1],\n",
       "       [ 50,  70,  90]])"
      ]
     },
     "execution_count": 23,
     "metadata": {},
     "output_type": "execute_result"
    }
   ],
   "source": [
    "C"
   ]
  },
  {
   "cell_type": "code",
   "execution_count": 24,
   "id": "490e3d99",
   "metadata": {},
   "outputs": [
    {
     "data": {
      "text/plain": [
       "(4, 3)"
      ]
     },
     "execution_count": 24,
     "metadata": {},
     "output_type": "execute_result"
    }
   ],
   "source": [
    "C.shape"
   ]
  },
  {
   "cell_type": "code",
   "execution_count": 25,
   "id": "3a31e729",
   "metadata": {},
   "outputs": [
    {
     "data": {
      "text/plain": [
       "500"
      ]
     },
     "execution_count": 25,
     "metadata": {},
     "output_type": "execute_result"
    }
   ],
   "source": [
    "C[2,0]"
   ]
  },
  {
   "cell_type": "code",
   "execution_count": 26,
   "id": "b9a4b51e",
   "metadata": {},
   "outputs": [
    {
     "data": {
      "text/plain": [
       "(70, 70)"
      ]
     },
     "execution_count": 26,
     "metadata": {},
     "output_type": "execute_result"
    }
   ],
   "source": [
    "C[3,1], C[-1,1]"
   ]
  },
  {
   "cell_type": "code",
   "execution_count": 27,
   "id": "401920d6",
   "metadata": {},
   "outputs": [],
   "source": [
    "D = np.array([10,20,30,40,50,60,70])"
   ]
  },
  {
   "cell_type": "code",
   "execution_count": 28,
   "id": "d11b8fe8",
   "metadata": {},
   "outputs": [
    {
     "data": {
      "text/plain": [
       "(7,)"
      ]
     },
     "execution_count": 28,
     "metadata": {},
     "output_type": "execute_result"
    }
   ],
   "source": [
    "D.shape"
   ]
  },
  {
   "cell_type": "code",
   "execution_count": 29,
   "id": "f1977d8a",
   "metadata": {},
   "outputs": [
    {
     "data": {
      "text/plain": [
       "array([50, 60, 70])"
      ]
     },
     "execution_count": 29,
     "metadata": {},
     "output_type": "execute_result"
    }
   ],
   "source": [
    "D[-3:]"
   ]
  },
  {
   "cell_type": "code",
   "execution_count": 30,
   "id": "5dd6c514",
   "metadata": {},
   "outputs": [
    {
     "data": {
      "text/plain": [
       "array([[  4,   5,   6],\n",
       "       [  9,   8,   7],\n",
       "       [500,   3,   1],\n",
       "       [ 50,  70,  90]])"
      ]
     },
     "execution_count": 30,
     "metadata": {},
     "output_type": "execute_result"
    }
   ],
   "source": [
    "C"
   ]
  },
  {
   "cell_type": "code",
   "execution_count": 31,
   "id": "611be0bf",
   "metadata": {},
   "outputs": [
    {
     "data": {
      "text/plain": [
       "array([[ 3,  1],\n",
       "       [70, 90]])"
      ]
     },
     "execution_count": 31,
     "metadata": {},
     "output_type": "execute_result"
    }
   ],
   "source": [
    "C[2:4:1, 1:3:1]"
   ]
  },
  {
   "cell_type": "code",
   "execution_count": 32,
   "id": "4ac89f0d",
   "metadata": {},
   "outputs": [
    {
     "data": {
      "text/plain": [
       "array([[  9,   7],\n",
       "       [500,   1],\n",
       "       [ 50,  90]])"
      ]
     },
     "execution_count": 32,
     "metadata": {},
     "output_type": "execute_result"
    }
   ],
   "source": [
    "C[1: , ::2]"
   ]
  },
  {
   "cell_type": "markdown",
   "id": "86690107",
   "metadata": {},
   "source": [
    "# Create Numpy arrays"
   ]
  },
  {
   "cell_type": "code",
   "execution_count": 3,
   "id": "f9b31d38",
   "metadata": {},
   "outputs": [
    {
     "data": {
      "text/plain": [
       "array([10, 13, 16, 19])"
      ]
     },
     "execution_count": 3,
     "metadata": {},
     "output_type": "execute_result"
    }
   ],
   "source": [
    "B = np.arange(10,20,3)\n",
    "B"
   ]
  },
  {
   "cell_type": "code",
   "execution_count": 4,
   "id": "7f582a52",
   "metadata": {},
   "outputs": [
    {
     "data": {
      "text/plain": [
       "array([13, 16, 19])"
      ]
     },
     "execution_count": 4,
     "metadata": {},
     "output_type": "execute_result"
    }
   ],
   "source": [
    "B[-3:]"
   ]
  },
  {
   "cell_type": "code",
   "execution_count": 5,
   "id": "cf488d51",
   "metadata": {},
   "outputs": [
    {
     "data": {
      "text/plain": [
       "array([0., 1., 2., 3., 4., 5., 6., 7., 8., 9.])"
      ]
     },
     "execution_count": 5,
     "metadata": {},
     "output_type": "execute_result"
    }
   ],
   "source": [
    "C = np.linspace(0,9,10)\n",
    "C"
   ]
  },
  {
   "cell_type": "code",
   "execution_count": 6,
   "id": "8bcb64ca",
   "metadata": {},
   "outputs": [
    {
     "data": {
      "text/plain": [
       "array([0.  , 0.25, 0.5 , 0.75, 1.  ])"
      ]
     },
     "execution_count": 6,
     "metadata": {},
     "output_type": "execute_result"
    }
   ],
   "source": [
    "np.linspace(0,1,5)"
   ]
  },
  {
   "cell_type": "code",
   "execution_count": 7,
   "id": "181b66e3",
   "metadata": {},
   "outputs": [
    {
     "data": {
      "text/plain": [
       "array([ 0. ,  0.5,  1. ,  1.5,  2. ,  2.5,  3. ,  3.5,  4. ,  4.5,  5. ,\n",
       "        5.5,  6. ,  6.5,  7. ,  7.5,  8. ,  8.5,  9. ,  9.5, 10. ])"
      ]
     },
     "execution_count": 7,
     "metadata": {},
     "output_type": "execute_result"
    }
   ],
   "source": [
    "np.linspace(0,10,21)"
   ]
  },
  {
   "cell_type": "code",
   "execution_count": 8,
   "id": "94c672c8",
   "metadata": {},
   "outputs": [
    {
     "data": {
      "text/plain": [
       "array([ 0.        ,  0.52631579,  1.05263158,  1.57894737,  2.10526316,\n",
       "        2.63157895,  3.15789474,  3.68421053,  4.21052632,  4.73684211,\n",
       "        5.26315789,  5.78947368,  6.31578947,  6.84210526,  7.36842105,\n",
       "        7.89473684,  8.42105263,  8.94736842,  9.47368421, 10.        ])"
      ]
     },
     "execution_count": 8,
     "metadata": {},
     "output_type": "execute_result"
    }
   ],
   "source": [
    "np.linspace(0,10,20)"
   ]
  },
  {
   "cell_type": "code",
   "execution_count": 9,
   "id": "5d8b25d3",
   "metadata": {},
   "outputs": [
    {
     "data": {
      "text/plain": [
       "array([17, 10, 16, 11, 11, 14, 19,  0,  3, 17, 16,  1,  9,  4,  0,  6, 16,\n",
       "        2,  9, 16,  5,  7, 10, 16,  2,  9,  3, 10,  6, 19,  5, 15,  9,  7,\n",
       "       18, 15,  2, 14,  9,  4, 11, 19,  6,  2,  0,  9, 14, 18,  2, 19])"
      ]
     },
     "execution_count": 9,
     "metadata": {},
     "output_type": "execute_result"
    }
   ],
   "source": [
    "np.random.randint(0,20,50)"
   ]
  },
  {
   "cell_type": "code",
   "execution_count": 10,
   "id": "ae1fb863",
   "metadata": {},
   "outputs": [
    {
     "data": {
      "text/plain": [
       "array([ 5, 69, 62, 64, 98, 33, 34, 26, 95, 30, 54, 32, 93, 56, 27, 91, 38,\n",
       "        0, 71, 92, 73, 26, 96, 17,  8])"
      ]
     },
     "execution_count": 10,
     "metadata": {},
     "output_type": "execute_result"
    }
   ],
   "source": [
    "np.random.randint(0,100,25)"
   ]
  },
  {
   "cell_type": "code",
   "execution_count": 11,
   "id": "f61a90c4",
   "metadata": {},
   "outputs": [
    {
     "data": {
      "text/plain": [
       "array([21, 21, 21, 22, 21, 24, 20, 23, 21, 23, 22, 22, 22, 23, 23, 21, 21,\n",
       "       22, 22, 24, 21, 23, 23, 21, 24, 23, 24, 24, 24, 20, 21, 24, 20, 23,\n",
       "       21, 23, 24, 24, 21, 23, 21, 20, 22, 22, 24, 24, 23, 23, 24, 20, 20,\n",
       "       20, 24, 20, 20, 20, 20, 23, 23, 22, 23, 22, 22, 22, 23, 20, 21, 22,\n",
       "       24, 22, 21, 23, 24, 22, 22, 23, 23, 20, 22, 20, 23, 22, 21, 24, 20,\n",
       "       20, 21, 20, 21, 22, 24, 24, 21, 21, 22, 24, 21, 23, 23, 24, 24, 22,\n",
       "       24, 24, 20, 20, 21, 21, 20, 23, 22, 24, 23, 22, 24, 24, 21, 23, 23,\n",
       "       21, 23, 20, 22, 24, 23, 20, 21, 20, 22, 24, 23, 20, 22, 21, 22, 23,\n",
       "       22, 23, 23, 23, 22, 24, 23, 24, 20, 24, 21, 22, 23, 23, 23, 21, 24,\n",
       "       24, 23, 23, 21, 22, 20, 20, 20, 23, 24, 23, 21, 24, 21, 24, 24, 23,\n",
       "       21, 23, 24, 23, 22, 24, 24, 24, 20, 21, 22, 21, 20, 23, 22, 20, 21,\n",
       "       21, 23, 20, 20, 22, 24, 23, 20, 22, 23, 22, 23, 21, 20, 24, 24, 24,\n",
       "       24, 24, 20, 24, 22, 22, 21, 24, 24, 23, 22, 24, 23, 23, 20, 23, 23,\n",
       "       20, 24, 20, 23, 21, 21, 21, 23, 24, 24, 24, 24, 24, 24, 21, 22, 22,\n",
       "       22, 21, 20, 23, 22, 20, 24, 24, 22, 23, 24, 20, 24, 24, 22, 24, 21,\n",
       "       20, 23, 22, 20, 23, 22, 23, 22, 20, 21, 21, 23, 20, 24, 22, 21, 24,\n",
       "       20, 23, 21, 20, 23, 24, 20, 21, 23, 23, 22, 23, 20, 24, 20, 24, 22,\n",
       "       20, 20, 22, 22, 22, 22, 21, 24, 23, 23, 24])"
      ]
     },
     "execution_count": 11,
     "metadata": {},
     "output_type": "execute_result"
    }
   ],
   "source": [
    "np.random.randint(20,25,300)"
   ]
  },
  {
   "cell_type": "code",
   "execution_count": 12,
   "id": "64b6d892",
   "metadata": {},
   "outputs": [
    {
     "data": {
      "text/plain": [
       "array([[20, 20, 21, 20, 23],\n",
       "       [23, 22, 20, 20, 21],\n",
       "       [24, 20, 24, 20, 21],\n",
       "       [20, 23, 21, 22, 22],\n",
       "       [23, 21, 22, 24, 20],\n",
       "       [21, 21, 20, 21, 20],\n",
       "       [21, 20, 21, 21, 20],\n",
       "       [24, 22, 23, 20, 24],\n",
       "       [24, 23, 23, 21, 24],\n",
       "       [21, 23, 20, 21, 24],\n",
       "       [23, 21, 21, 21, 22],\n",
       "       [22, 22, 22, 23, 24],\n",
       "       [20, 24, 21, 20, 20],\n",
       "       [21, 21, 24, 21, 22],\n",
       "       [21, 21, 24, 24, 24],\n",
       "       [21, 21, 24, 24, 21],\n",
       "       [21, 23, 23, 20, 24],\n",
       "       [24, 23, 24, 21, 23],\n",
       "       [23, 23, 22, 24, 21],\n",
       "       [21, 21, 21, 22, 23],\n",
       "       [21, 21, 21, 20, 20],\n",
       "       [21, 22, 20, 20, 23],\n",
       "       [22, 23, 24, 20, 20],\n",
       "       [20, 22, 20, 24, 24],\n",
       "       [20, 21, 21, 20, 20],\n",
       "       [23, 23, 24, 22, 22],\n",
       "       [23, 22, 24, 22, 21],\n",
       "       [24, 20, 24, 24, 20],\n",
       "       [21, 21, 20, 23, 21],\n",
       "       [20, 24, 24, 20, 22],\n",
       "       [20, 20, 21, 22, 21],\n",
       "       [24, 21, 21, 23, 24],\n",
       "       [23, 23, 24, 22, 21],\n",
       "       [24, 24, 23, 21, 24],\n",
       "       [21, 24, 20, 20, 20],\n",
       "       [20, 20, 23, 20, 21],\n",
       "       [20, 22, 21, 22, 22],\n",
       "       [20, 23, 21, 24, 21],\n",
       "       [20, 23, 24, 22, 22],\n",
       "       [22, 22, 21, 24, 23],\n",
       "       [24, 20, 24, 20, 21],\n",
       "       [22, 23, 24, 22, 22],\n",
       "       [24, 23, 21, 20, 20],\n",
       "       [24, 24, 23, 23, 20],\n",
       "       [22, 24, 23, 24, 22],\n",
       "       [23, 24, 23, 24, 22],\n",
       "       [23, 22, 20, 23, 22],\n",
       "       [23, 24, 24, 22, 24],\n",
       "       [24, 21, 22, 22, 21],\n",
       "       [21, 24, 21, 21, 22],\n",
       "       [23, 21, 23, 23, 22],\n",
       "       [21, 24, 20, 23, 23],\n",
       "       [20, 21, 23, 24, 21],\n",
       "       [24, 22, 21, 20, 20],\n",
       "       [20, 24, 23, 22, 22],\n",
       "       [22, 20, 20, 23, 24],\n",
       "       [21, 21, 22, 21, 21],\n",
       "       [21, 20, 20, 23, 20],\n",
       "       [21, 24, 22, 24, 23],\n",
       "       [23, 22, 24, 20, 23]])"
      ]
     },
     "execution_count": 12,
     "metadata": {},
     "output_type": "execute_result"
    }
   ],
   "source": [
    "np.random.randint(20,25,(60,5))"
   ]
  },
  {
   "cell_type": "code",
   "execution_count": 17,
   "id": "04552969",
   "metadata": {},
   "outputs": [
    {
     "data": {
      "text/plain": [
       "array([[0.19133942, 0.13034379, 0.9088873 ],\n",
       "       [0.6290857 , 0.50940581, 0.46076447],\n",
       "       [0.28489505, 0.78036764, 0.27380834],\n",
       "       [0.0510267 , 0.69401523, 0.92149125]])"
      ]
     },
     "execution_count": 17,
     "metadata": {},
     "output_type": "execute_result"
    }
   ],
   "source": [
    "np.random.rand(4,3)"
   ]
  },
  {
   "cell_type": "code",
   "execution_count": 20,
   "id": "096feee1",
   "metadata": {},
   "outputs": [
    {
     "data": {
      "text/plain": [
       "array([[1, 0, 0, 0, 0],\n",
       "       [0, 1, 0, 0, 0],\n",
       "       [0, 0, 1, 0, 0],\n",
       "       [0, 0, 0, 1, 0],\n",
       "       [0, 0, 0, 0, 1]])"
      ]
     },
     "execution_count": 20,
     "metadata": {},
     "output_type": "execute_result"
    }
   ],
   "source": [
    "np.eye(5, dtype=int)"
   ]
  },
  {
   "cell_type": "code",
   "execution_count": 21,
   "id": "65670616",
   "metadata": {},
   "outputs": [
    {
     "data": {
      "text/plain": [
       "array([[10.,  0.,  0.],\n",
       "       [ 0., 40.,  0.],\n",
       "       [ 0.,  0., 20.]])"
      ]
     },
     "execution_count": 21,
     "metadata": {},
     "output_type": "execute_result"
    }
   ],
   "source": [
    "np.diag([10.0,40,20])"
   ]
  },
  {
   "cell_type": "code",
   "execution_count": 25,
   "id": "e7a83afb",
   "metadata": {},
   "outputs": [
    {
     "data": {
      "text/plain": [
       "array([[0., 0., 0., 0., 0., 0., 0., 0., 0., 0.],\n",
       "       [0., 0., 0., 0., 0., 0., 0., 0., 0., 0.]])"
      ]
     },
     "execution_count": 25,
     "metadata": {},
     "output_type": "execute_result"
    }
   ],
   "source": [
    "np.zeros((2,10))"
   ]
  },
  {
   "cell_type": "code",
   "execution_count": 27,
   "id": "942cd989",
   "metadata": {},
   "outputs": [
    {
     "data": {
      "text/plain": [
       "array([[1., 1., 1., 1., 1., 1., 1., 1., 1., 1.],\n",
       "       [1., 1., 1., 1., 1., 1., 1., 1., 1., 1.],\n",
       "       [1., 1., 1., 1., 1., 1., 1., 1., 1., 1.]])"
      ]
     },
     "execution_count": 27,
     "metadata": {},
     "output_type": "execute_result"
    }
   ],
   "source": [
    "np.ones((3,10))"
   ]
  },
  {
   "cell_type": "code",
   "execution_count": 28,
   "id": "92cc6f7e",
   "metadata": {},
   "outputs": [
    {
     "ename": "AttributeError",
     "evalue": "module 'numpy' has no attribute 'twos'",
     "output_type": "error",
     "traceback": [
      "\u001b[1;31m---------------------------------------------------------------------------\u001b[0m",
      "\u001b[1;31mAttributeError\u001b[0m                            Traceback (most recent call last)",
      "\u001b[1;32m<ipython-input-28-a9623676880b>\u001b[0m in \u001b[0;36m<module>\u001b[1;34m\u001b[0m\n\u001b[1;32m----> 1\u001b[1;33m \u001b[0mnp\u001b[0m\u001b[1;33m.\u001b[0m\u001b[0mtwos\u001b[0m\u001b[1;33m(\u001b[0m\u001b[1;36m4\u001b[0m\u001b[1;33m,\u001b[0m\u001b[1;36m5\u001b[0m\u001b[1;33m)\u001b[0m\u001b[1;33m\u001b[0m\u001b[1;33m\u001b[0m\u001b[0m\n\u001b[0m",
      "\u001b[1;32m~\\anaconda3\\lib\\site-packages\\numpy\\__init__.py\u001b[0m in \u001b[0;36m__getattr__\u001b[1;34m(attr)\u001b[0m\n\u001b[0;32m    212\u001b[0m                 \u001b[1;32mreturn\u001b[0m \u001b[0mTester\u001b[0m\u001b[1;33m\u001b[0m\u001b[1;33m\u001b[0m\u001b[0m\n\u001b[0;32m    213\u001b[0m             \u001b[1;32melse\u001b[0m\u001b[1;33m:\u001b[0m\u001b[1;33m\u001b[0m\u001b[1;33m\u001b[0m\u001b[0m\n\u001b[1;32m--> 214\u001b[1;33m                 raise AttributeError(\"module {!r} has no attribute \"\n\u001b[0m\u001b[0;32m    215\u001b[0m                                      \"{!r}\".format(__name__, attr))\n\u001b[0;32m    216\u001b[0m \u001b[1;33m\u001b[0m\u001b[0m\n",
      "\u001b[1;31mAttributeError\u001b[0m: module 'numpy' has no attribute 'twos'"
     ]
    }
   ],
   "source": [
    "np.twos(4,5)"
   ]
  },
  {
   "cell_type": "code",
   "execution_count": 29,
   "id": "35dd2575",
   "metadata": {},
   "outputs": [
    {
     "data": {
      "text/plain": [
       "array([ 10,  20,  30,  40,  50,  60,  70,  80,  90, 100, 110, 120, 130,\n",
       "       140, 150, 160, 170, 180, 190, 200, 210, 220, 230, 240, 250, 260,\n",
       "       270, 280, 290, 300])"
      ]
     },
     "execution_count": 29,
     "metadata": {},
     "output_type": "execute_result"
    }
   ],
   "source": [
    "A = np.arange(10,301,10)\n",
    "A"
   ]
  },
  {
   "cell_type": "code",
   "execution_count": 32,
   "id": "856abed7",
   "metadata": {},
   "outputs": [
    {
     "data": {
      "text/plain": [
       "array([[ 10,  20,  30],\n",
       "       [ 40,  50,  60],\n",
       "       [ 70,  80,  90],\n",
       "       [100, 110, 120],\n",
       "       [130, 140, 150],\n",
       "       [160, 170, 180],\n",
       "       [190, 200, 210],\n",
       "       [220, 230, 240],\n",
       "       [250, 260, 270],\n",
       "       [280, 290, 300]])"
      ]
     },
     "execution_count": 32,
     "metadata": {},
     "output_type": "execute_result"
    }
   ],
   "source": [
    "B = A.reshape(10,3)\n",
    "B"
   ]
  },
  {
   "cell_type": "code",
   "execution_count": 31,
   "id": "c4dd3444",
   "metadata": {},
   "outputs": [
    {
     "data": {
      "text/plain": [
       "array([ 10,  20,  30,  40,  50,  60,  70,  80,  90, 100, 110, 120, 130,\n",
       "       140, 150, 160, 170, 180, 190, 200, 210, 220, 230, 240, 250, 260,\n",
       "       270, 280, 290, 300])"
      ]
     },
     "execution_count": 31,
     "metadata": {},
     "output_type": "execute_result"
    }
   ],
   "source": [
    "A"
   ]
  },
  {
   "cell_type": "code",
   "execution_count": 33,
   "id": "444a65bf",
   "metadata": {},
   "outputs": [
    {
     "data": {
      "text/plain": [
       "array([[ 10,  20,  30,  40,  50,  60],\n",
       "       [ 70,  80,  90, 100, 110, 120],\n",
       "       [130, 140, 150, 160, 170, 180],\n",
       "       [190, 200, 210, 220, 230, 240],\n",
       "       [250, 260, 270, 280, 290, 300]])"
      ]
     },
     "execution_count": 33,
     "metadata": {},
     "output_type": "execute_result"
    }
   ],
   "source": [
    "A.reshape(5,6)"
   ]
  },
  {
   "cell_type": "code",
   "execution_count": 34,
   "id": "5a403a7f",
   "metadata": {},
   "outputs": [
    {
     "data": {
      "text/plain": [
       "array([[ 10,  20,  30,  40,  50,  60,  70,  80,  90, 100, 110, 120, 130,\n",
       "        140, 150],\n",
       "       [160, 170, 180, 190, 200, 210, 220, 230, 240, 250, 260, 270, 280,\n",
       "        290, 300]])"
      ]
     },
     "execution_count": 34,
     "metadata": {},
     "output_type": "execute_result"
    }
   ],
   "source": [
    "A.reshape(2,15)"
   ]
  },
  {
   "cell_type": "code",
   "execution_count": 35,
   "id": "d24edd25",
   "metadata": {},
   "outputs": [
    {
     "ename": "ValueError",
     "evalue": "cannot reshape array of size 30 into shape (7,4)",
     "output_type": "error",
     "traceback": [
      "\u001b[1;31m---------------------------------------------------------------------------\u001b[0m",
      "\u001b[1;31mValueError\u001b[0m                                Traceback (most recent call last)",
      "\u001b[1;32m<ipython-input-35-254141e12c1f>\u001b[0m in \u001b[0;36m<module>\u001b[1;34m\u001b[0m\n\u001b[1;32m----> 1\u001b[1;33m \u001b[0mA\u001b[0m\u001b[1;33m.\u001b[0m\u001b[0mreshape\u001b[0m\u001b[1;33m(\u001b[0m\u001b[1;36m7\u001b[0m\u001b[1;33m,\u001b[0m\u001b[1;36m4\u001b[0m\u001b[1;33m)\u001b[0m\u001b[1;33m\u001b[0m\u001b[1;33m\u001b[0m\u001b[0m\n\u001b[0m",
      "\u001b[1;31mValueError\u001b[0m: cannot reshape array of size 30 into shape (7,4)"
     ]
    }
   ],
   "source": [
    "A.reshape(7,4)"
   ]
  },
  {
   "cell_type": "code",
   "execution_count": 36,
   "id": "b8c34cf2",
   "metadata": {},
   "outputs": [
    {
     "data": {
      "text/plain": [
       "array([10, 20, 30, 40, 50, 60])"
      ]
     },
     "execution_count": 36,
     "metadata": {},
     "output_type": "execute_result"
    }
   ],
   "source": [
    "A = np.arange(10,61,10)\n",
    "A"
   ]
  },
  {
   "cell_type": "code",
   "execution_count": 37,
   "id": "0bce3977",
   "metadata": {},
   "outputs": [
    {
     "data": {
      "text/plain": [
       "(6,)"
      ]
     },
     "execution_count": 37,
     "metadata": {},
     "output_type": "execute_result"
    }
   ],
   "source": [
    "A.shape"
   ]
  },
  {
   "cell_type": "code",
   "execution_count": 38,
   "id": "e9b2b4b5",
   "metadata": {},
   "outputs": [
    {
     "data": {
      "text/plain": [
       "(1, 6)"
      ]
     },
     "execution_count": 38,
     "metadata": {},
     "output_type": "execute_result"
    }
   ],
   "source": [
    "A = A.reshape(1,6)\n",
    "A.shape"
   ]
  },
  {
   "cell_type": "code",
   "execution_count": 39,
   "id": "aa2fd971",
   "metadata": {},
   "outputs": [
    {
     "data": {
      "text/plain": [
       "array([[10, 20, 30, 40, 50, 60]])"
      ]
     },
     "execution_count": 39,
     "metadata": {},
     "output_type": "execute_result"
    }
   ],
   "source": [
    "A"
   ]
  },
  {
   "cell_type": "code",
   "execution_count": 40,
   "id": "0674d08e",
   "metadata": {},
   "outputs": [],
   "source": [
    "A = A.reshape(6,1)"
   ]
  },
  {
   "cell_type": "code",
   "execution_count": 41,
   "id": "2603a28b",
   "metadata": {},
   "outputs": [
    {
     "data": {
      "text/plain": [
       "(6, 1)"
      ]
     },
     "execution_count": 41,
     "metadata": {},
     "output_type": "execute_result"
    }
   ],
   "source": [
    "A.shape"
   ]
  },
  {
   "cell_type": "code",
   "execution_count": 42,
   "id": "2ea2c135",
   "metadata": {},
   "outputs": [
    {
     "data": {
      "text/plain": [
       "array([[10],\n",
       "       [20],\n",
       "       [30],\n",
       "       [40],\n",
       "       [50],\n",
       "       [60]])"
      ]
     },
     "execution_count": 42,
     "metadata": {},
     "output_type": "execute_result"
    }
   ],
   "source": [
    "A"
   ]
  },
  {
   "cell_type": "markdown",
   "id": "01f31b88",
   "metadata": {},
   "source": [
    "# Aggregation Functions"
   ]
  },
  {
   "cell_type": "code",
   "execution_count": 44,
   "id": "cb90c6ce",
   "metadata": {},
   "outputs": [
    {
     "data": {
      "text/plain": [
       "array([38, 74, 81,  9, 36])"
      ]
     },
     "execution_count": 44,
     "metadata": {},
     "output_type": "execute_result"
    }
   ],
   "source": [
    "A = np.random.randint(0,100,5)\n",
    "A"
   ]
  },
  {
   "cell_type": "code",
   "execution_count": 45,
   "id": "7e3896df",
   "metadata": {},
   "outputs": [
    {
     "data": {
      "text/plain": [
       "9"
      ]
     },
     "execution_count": 45,
     "metadata": {},
     "output_type": "execute_result"
    }
   ],
   "source": [
    "A.min()"
   ]
  },
  {
   "cell_type": "code",
   "execution_count": 46,
   "id": "1be4caea",
   "metadata": {},
   "outputs": [
    {
     "data": {
      "text/plain": [
       "9"
      ]
     },
     "execution_count": 46,
     "metadata": {},
     "output_type": "execute_result"
    }
   ],
   "source": [
    "min(A)"
   ]
  },
  {
   "cell_type": "code",
   "execution_count": 47,
   "id": "2702d00d",
   "metadata": {},
   "outputs": [
    {
     "data": {
      "text/plain": [
       "(81, 47.6, 238, 705.8399999999999, 26.56764950084971)"
      ]
     },
     "execution_count": 47,
     "metadata": {},
     "output_type": "execute_result"
    }
   ],
   "source": [
    "A.max(), A.mean(), A.sum(), A.var(), A.std()"
   ]
  },
  {
   "cell_type": "code",
   "execution_count": 49,
   "id": "99e2a236",
   "metadata": {},
   "outputs": [
    {
     "data": {
      "text/plain": [
       "array([[73, 91, 58],\n",
       "       [41, 51, 96],\n",
       "       [53, 20,  0],\n",
       "       [89, 91, 99]])"
      ]
     },
     "execution_count": 49,
     "metadata": {},
     "output_type": "execute_result"
    }
   ],
   "source": [
    "B = np.random.randint(0,100,(4,3))\n",
    "B"
   ]
  },
  {
   "cell_type": "code",
   "execution_count": 51,
   "id": "d249c70c",
   "metadata": {},
   "outputs": [
    {
     "data": {
      "text/plain": [
       "0"
      ]
     },
     "execution_count": 51,
     "metadata": {},
     "output_type": "execute_result"
    }
   ],
   "source": [
    "B.min()"
   ]
  },
  {
   "cell_type": "code",
   "execution_count": 52,
   "id": "03b4b5aa",
   "metadata": {},
   "outputs": [
    {
     "data": {
      "text/plain": [
       "array([41, 20,  0])"
      ]
     },
     "execution_count": 52,
     "metadata": {},
     "output_type": "execute_result"
    }
   ],
   "source": [
    "B.min(axis=0)"
   ]
  },
  {
   "cell_type": "code",
   "execution_count": 53,
   "id": "e0fb4dc7",
   "metadata": {},
   "outputs": [
    {
     "data": {
      "text/plain": [
       "array([58, 41,  0, 89])"
      ]
     },
     "execution_count": 53,
     "metadata": {},
     "output_type": "execute_result"
    }
   ],
   "source": [
    "B.min(axis=1)"
   ]
  },
  {
   "cell_type": "code",
   "execution_count": 54,
   "id": "9fda98b4",
   "metadata": {},
   "outputs": [
    {
     "data": {
      "text/plain": [
       "array([[22, 20, 21, 23, 20],\n",
       "       [22, 24, 23, 21, 22],\n",
       "       [20, 23, 20, 22, 22],\n",
       "       [22, 20, 21, 23, 24],\n",
       "       [20, 20, 24, 22, 23],\n",
       "       [21, 24, 22, 23, 21],\n",
       "       [21, 23, 24, 23, 21],\n",
       "       [20, 21, 24, 22, 23],\n",
       "       [20, 20, 21, 24, 23],\n",
       "       [23, 20, 23, 20, 23],\n",
       "       [23, 20, 24, 24, 22],\n",
       "       [22, 24, 24, 24, 20],\n",
       "       [20, 20, 21, 22, 20],\n",
       "       [23, 20, 24, 23, 22],\n",
       "       [24, 24, 20, 21, 22],\n",
       "       [20, 21, 20, 20, 21],\n",
       "       [23, 24, 21, 20, 20],\n",
       "       [23, 20, 23, 20, 21],\n",
       "       [24, 23, 22, 23, 22],\n",
       "       [23, 24, 23, 24, 21],\n",
       "       [24, 23, 23, 23, 21],\n",
       "       [20, 21, 24, 23, 21],\n",
       "       [20, 22, 23, 20, 24],\n",
       "       [23, 24, 24, 21, 23],\n",
       "       [24, 20, 21, 21, 23],\n",
       "       [23, 20, 21, 24, 21],\n",
       "       [21, 24, 24, 24, 23],\n",
       "       [23, 21, 24, 24, 21],\n",
       "       [21, 24, 24, 20, 20],\n",
       "       [21, 21, 20, 24, 21],\n",
       "       [23, 22, 22, 20, 24],\n",
       "       [23, 20, 21, 23, 23],\n",
       "       [24, 21, 23, 23, 20],\n",
       "       [20, 22, 22, 22, 24],\n",
       "       [20, 22, 24, 21, 21],\n",
       "       [20, 22, 20, 22, 20],\n",
       "       [23, 24, 20, 24, 21],\n",
       "       [24, 24, 24, 20, 24],\n",
       "       [22, 22, 23, 24, 24],\n",
       "       [23, 20, 24, 23, 24],\n",
       "       [20, 23, 20, 23, 21],\n",
       "       [23, 22, 23, 24, 23],\n",
       "       [24, 22, 20, 22, 21],\n",
       "       [24, 24, 24, 24, 20],\n",
       "       [21, 21, 24, 22, 20],\n",
       "       [23, 20, 21, 21, 22],\n",
       "       [20, 20, 24, 21, 24],\n",
       "       [20, 24, 24, 24, 20],\n",
       "       [20, 23, 24, 22, 22],\n",
       "       [21, 22, 20, 20, 21],\n",
       "       [20, 24, 21, 22, 22],\n",
       "       [24, 23, 21, 22, 23],\n",
       "       [22, 24, 20, 21, 24],\n",
       "       [21, 23, 23, 20, 22],\n",
       "       [22, 23, 22, 20, 21],\n",
       "       [21, 23, 23, 24, 24],\n",
       "       [21, 21, 23, 22, 23],\n",
       "       [24, 24, 21, 23, 21],\n",
       "       [20, 23, 24, 21, 23],\n",
       "       [21, 24, 21, 23, 20]])"
      ]
     },
     "execution_count": 54,
     "metadata": {},
     "output_type": "execute_result"
    }
   ],
   "source": [
    "marks = np.random.randint(20,25,(60,5))\n",
    "marks"
   ]
  },
  {
   "cell_type": "code",
   "execution_count": 55,
   "id": "97b21da4",
   "metadata": {},
   "outputs": [
    {
     "data": {
      "text/plain": [
       "array([21.83333333, 22.11666667, 22.31666667, 22.18333333, 21.88333333])"
      ]
     },
     "execution_count": 55,
     "metadata": {},
     "output_type": "execute_result"
    }
   ],
   "source": [
    "marks.mean(axis=0)"
   ]
  },
  {
   "cell_type": "markdown",
   "id": "62fb05ff",
   "metadata": {},
   "source": [
    "# Linear Algebra"
   ]
  },
  {
   "cell_type": "code",
   "execution_count": 56,
   "id": "511d7727",
   "metadata": {},
   "outputs": [],
   "source": [
    "A = np.random.randint(0,10,(3,3))"
   ]
  },
  {
   "cell_type": "code",
   "execution_count": 57,
   "id": "01e65f48",
   "metadata": {},
   "outputs": [
    {
     "data": {
      "text/plain": [
       "array([[7, 6, 6],\n",
       "       [2, 8, 2],\n",
       "       [9, 2, 0]])"
      ]
     },
     "execution_count": 57,
     "metadata": {},
     "output_type": "execute_result"
    }
   ],
   "source": [
    "A"
   ]
  },
  {
   "cell_type": "code",
   "execution_count": 58,
   "id": "99b2c72e",
   "metadata": {},
   "outputs": [
    {
     "data": {
      "text/plain": [
       "-328.0000000000001"
      ]
     },
     "execution_count": 58,
     "metadata": {},
     "output_type": "execute_result"
    }
   ],
   "source": [
    "np.linalg.det(A)"
   ]
  },
  {
   "cell_type": "code",
   "execution_count": 60,
   "id": "afd99798",
   "metadata": {},
   "outputs": [],
   "source": [
    "A_inv = np.linalg.inv(A)"
   ]
  },
  {
   "cell_type": "code",
   "execution_count": 61,
   "id": "d7f3bcf0",
   "metadata": {},
   "outputs": [
    {
     "data": {
      "text/plain": [
       "array([[ 0.01219512, -0.03658537,  0.1097561 ],\n",
       "       [-0.05487805,  0.16463415,  0.00609756],\n",
       "       [ 0.20731707, -0.12195122, -0.13414634]])"
      ]
     },
     "execution_count": 61,
     "metadata": {},
     "output_type": "execute_result"
    }
   ],
   "source": [
    "A_inv"
   ]
  },
  {
   "cell_type": "code",
   "execution_count": 70,
   "id": "a5de70c7",
   "metadata": {},
   "outputs": [],
   "source": [
    "B = A.dot(A_inv)"
   ]
  },
  {
   "cell_type": "code",
   "execution_count": 73,
   "id": "8ea1c00a",
   "metadata": {},
   "outputs": [
    {
     "data": {
      "text/plain": [
       "array([[ 1.00000000e+00, -8.32667268e-17, -1.11022302e-16],\n",
       "       [ 0.00000000e+00,  1.00000000e+00,  0.00000000e+00],\n",
       "       [-1.38777878e-17,  5.55111512e-17,  1.00000000e+00]])"
      ]
     },
     "execution_count": 73,
     "metadata": {},
     "output_type": "execute_result"
    }
   ],
   "source": [
    "B"
   ]
  },
  {
   "cell_type": "code",
   "execution_count": null,
   "id": "4e1654ba",
   "metadata": {},
   "outputs": [],
   "source": []
  },
  {
   "cell_type": "markdown",
   "id": "15ee6885",
   "metadata": {},
   "source": [
    "# Broadcasting"
   ]
  },
  {
   "cell_type": "code",
   "execution_count": 3,
   "id": "13a3737e",
   "metadata": {},
   "outputs": [
    {
     "data": {
      "text/plain": [
       "array([66, 72, 67,  4, 48, 46, 19, 37, 89, 51, 86, 63, 71, 40, 58, 49, 70,\n",
       "       10, 70, 60])"
      ]
     },
     "execution_count": 3,
     "metadata": {},
     "output_type": "execute_result"
    }
   ],
   "source": [
    "A = np.random.randint(0,100,20)\n",
    "A"
   ]
  },
  {
   "cell_type": "code",
   "execution_count": 5,
   "id": "dcb00b22",
   "metadata": {},
   "outputs": [],
   "source": [
    "B = A<50"
   ]
  },
  {
   "cell_type": "code",
   "execution_count": 6,
   "id": "17324fd2",
   "metadata": {},
   "outputs": [
    {
     "data": {
      "text/plain": [
       "array([False, False, False,  True,  True,  True,  True,  True, False,\n",
       "       False, False, False, False,  True, False,  True, False,  True,\n",
       "       False, False])"
      ]
     },
     "execution_count": 6,
     "metadata": {},
     "output_type": "execute_result"
    }
   ],
   "source": [
    "B"
   ]
  },
  {
   "cell_type": "code",
   "execution_count": 8,
   "id": "a62efbea",
   "metadata": {},
   "outputs": [
    {
     "data": {
      "text/plain": [
       "array([False, False, False,  True,  True,  True,  True,  True, False,\n",
       "       False, False, False, False,  True, False,  True, False,  True,\n",
       "       False, False])"
      ]
     },
     "execution_count": 8,
     "metadata": {},
     "output_type": "execute_result"
    }
   ],
   "source": [
    "B & True"
   ]
  },
  {
   "cell_type": "code",
   "execution_count": 9,
   "id": "738c0a23",
   "metadata": {},
   "outputs": [
    {
     "data": {
      "text/plain": [
       "array([[57,  3,  1, 68],\n",
       "       [33, 15, 78, 41],\n",
       "       [40,  3, 49, 83]])"
      ]
     },
     "execution_count": 9,
     "metadata": {},
     "output_type": "execute_result"
    }
   ],
   "source": [
    "A = np.random.randint(0,100,(3,4))\n",
    "A"
   ]
  },
  {
   "cell_type": "code",
   "execution_count": 10,
   "id": "98c9850f",
   "metadata": {},
   "outputs": [
    {
     "data": {
      "text/plain": [
       "array([[False,  True,  True, False],\n",
       "       [ True,  True, False,  True],\n",
       "       [ True,  True,  True, False]])"
      ]
     },
     "execution_count": 10,
     "metadata": {},
     "output_type": "execute_result"
    }
   ],
   "source": [
    "A<50"
   ]
  },
  {
   "cell_type": "code",
   "execution_count": 12,
   "id": "b0edd440",
   "metadata": {},
   "outputs": [
    {
     "data": {
      "text/plain": [
       "array([10, 40])"
      ]
     },
     "execution_count": 12,
     "metadata": {},
     "output_type": "execute_result"
    }
   ],
   "source": [
    "B1 = np.array([True, False, False, True])\n",
    "A = np.array([10,20,30,40])\n",
    "A[B1] # Select values from A whos respective value in B1 is True"
   ]
  },
  {
   "cell_type": "code",
   "execution_count": 13,
   "id": "acea0a1f",
   "metadata": {},
   "outputs": [
    {
     "data": {
      "text/plain": [
       "array([30, 29, 23, 89, 72, 30,  3, 63, 52, 95, 15, 76, 15, 43, 23, 71, 43,\n",
       "       86, 69, 83])"
      ]
     },
     "execution_count": 13,
     "metadata": {},
     "output_type": "execute_result"
    }
   ],
   "source": [
    "A = np.random.randint(0,100,20)\n",
    "A"
   ]
  },
  {
   "cell_type": "code",
   "execution_count": 14,
   "id": "071c6496",
   "metadata": {},
   "outputs": [
    {
     "data": {
      "text/plain": [
       "array([ True,  True,  True, False, False,  True,  True, False, False,\n",
       "       False,  True, False,  True,  True,  True, False,  True, False,\n",
       "       False, False])"
      ]
     },
     "execution_count": 14,
     "metadata": {},
     "output_type": "execute_result"
    }
   ],
   "source": [
    "B1 = A<50\n",
    "B1"
   ]
  },
  {
   "cell_type": "code",
   "execution_count": 15,
   "id": "eeb28c51",
   "metadata": {},
   "outputs": [
    {
     "data": {
      "text/plain": [
       "array([30, 29, 23, 30,  3, 15, 15, 43, 23, 43])"
      ]
     },
     "execution_count": 15,
     "metadata": {},
     "output_type": "execute_result"
    }
   ],
   "source": [
    "A[B1]"
   ]
  },
  {
   "cell_type": "code",
   "execution_count": 16,
   "id": "d58ed96b",
   "metadata": {},
   "outputs": [
    {
     "data": {
      "text/plain": [
       "array([30, 29, 23, 30,  3, 15, 15, 43, 23, 43])"
      ]
     },
     "execution_count": 16,
     "metadata": {},
     "output_type": "execute_result"
    }
   ],
   "source": [
    "A[A<50]"
   ]
  },
  {
   "cell_type": "code",
   "execution_count": 17,
   "id": "eb4ddf6c",
   "metadata": {},
   "outputs": [
    {
     "data": {
      "text/plain": [
       "array([30, 29, 23, 89, 72, 30, 63, 52, 95, 76, 43, 23, 71, 43, 86, 69, 83])"
      ]
     },
     "execution_count": 17,
     "metadata": {},
     "output_type": "execute_result"
    }
   ],
   "source": [
    "A[A>20]"
   ]
  },
  {
   "cell_type": "code",
   "execution_count": 18,
   "id": "b2fa53f7",
   "metadata": {},
   "outputs": [],
   "source": [
    "B1 = A<50\n",
    "B2 = A>20"
   ]
  },
  {
   "cell_type": "code",
   "execution_count": 19,
   "id": "6bac7e94",
   "metadata": {},
   "outputs": [
    {
     "data": {
      "text/plain": [
       "(array([ True,  True,  True, False, False,  True,  True, False, False,\n",
       "        False,  True, False,  True,  True,  True, False,  True, False,\n",
       "        False, False]),\n",
       " array([ True,  True,  True,  True,  True,  True, False,  True,  True,\n",
       "         True, False,  True, False,  True,  True,  True,  True,  True,\n",
       "         True,  True]))"
      ]
     },
     "execution_count": 19,
     "metadata": {},
     "output_type": "execute_result"
    }
   ],
   "source": [
    "B1, B2"
   ]
  },
  {
   "cell_type": "code",
   "execution_count": 21,
   "id": "43914083",
   "metadata": {},
   "outputs": [],
   "source": [
    "B3 = B1 & B2"
   ]
  },
  {
   "cell_type": "code",
   "execution_count": 22,
   "id": "f39add4a",
   "metadata": {},
   "outputs": [
    {
     "data": {
      "text/plain": [
       "array([30, 29, 23, 30, 43, 23, 43])"
      ]
     },
     "execution_count": 22,
     "metadata": {},
     "output_type": "execute_result"
    }
   ],
   "source": [
    "A[B3]"
   ]
  },
  {
   "cell_type": "code",
   "execution_count": 23,
   "id": "95caa9de",
   "metadata": {},
   "outputs": [
    {
     "data": {
      "text/plain": [
       "array([30, 29, 23, 30, 43, 23, 43])"
      ]
     },
     "execution_count": 23,
     "metadata": {},
     "output_type": "execute_result"
    }
   ],
   "source": [
    "A[B1 & B2]"
   ]
  },
  {
   "cell_type": "code",
   "execution_count": 25,
   "id": "3ac55fa9",
   "metadata": {},
   "outputs": [
    {
     "data": {
      "text/plain": [
       "array([30, 29, 23, 30, 43, 23, 43])"
      ]
     },
     "execution_count": 25,
     "metadata": {},
     "output_type": "execute_result"
    }
   ],
   "source": [
    "A[(A<50) & (A>20)]"
   ]
  },
  {
   "cell_type": "code",
   "execution_count": 26,
   "id": "d5bfb2bc",
   "metadata": {},
   "outputs": [
    {
     "data": {
      "text/plain": [
       "array([30, 30])"
      ]
     },
     "execution_count": 26,
     "metadata": {},
     "output_type": "execute_result"
    }
   ],
   "source": [
    "# Select elements from A which are less than 50 and even\n",
    "A[(A<50) & (A%2==0)]"
   ]
  },
  {
   "cell_type": "code",
   "execution_count": 27,
   "id": "9df0e6e3",
   "metadata": {},
   "outputs": [
    {
     "data": {
      "text/plain": [
       "array([30, 29, 23, 89, 72, 30,  3, 63, 52, 95, 15, 76, 15, 43, 23, 71, 43,\n",
       "       86, 69, 83])"
      ]
     },
     "execution_count": 27,
     "metadata": {},
     "output_type": "execute_result"
    }
   ],
   "source": [
    "A"
   ]
  },
  {
   "cell_type": "code",
   "execution_count": 30,
   "id": "23840d02",
   "metadata": {},
   "outputs": [
    {
     "data": {
      "text/plain": [
       "array([89, 72, 63, 52, 95, 76, 71, 86, 69, 83])"
      ]
     },
     "execution_count": 30,
     "metadata": {},
     "output_type": "execute_result"
    }
   ],
   "source": [
    "# Select only those numbers whose value is greater than avg of A\n",
    "A[A > A.mean()]"
   ]
  },
  {
   "cell_type": "markdown",
   "id": "eb698f2f",
   "metadata": {},
   "source": [
    "# np.where"
   ]
  },
  {
   "cell_type": "code",
   "execution_count": 31,
   "id": "a716b55e",
   "metadata": {},
   "outputs": [
    {
     "data": {
      "text/plain": [
       "array([30, 29, 23, 89, 72, 30,  3, 63, 52, 95, 15, 76, 15, 43, 23, 71, 43,\n",
       "       86, 69, 83])"
      ]
     },
     "execution_count": 31,
     "metadata": {},
     "output_type": "execute_result"
    }
   ],
   "source": [
    "A"
   ]
  },
  {
   "cell_type": "code",
   "execution_count": 32,
   "id": "cce7793d",
   "metadata": {},
   "outputs": [
    {
     "data": {
      "text/plain": [
       "array(['Low', 'Low', 'Low', 'High', 'High', 'Low', 'Low', 'High', 'High',\n",
       "       'High', 'Low', 'High', 'Low', 'Low', 'Low', 'High', 'Low', 'High',\n",
       "       'High', 'High'], dtype='<U4')"
      ]
     },
     "execution_count": 32,
     "metadata": {},
     "output_type": "execute_result"
    }
   ],
   "source": [
    "np.where(A>50,'High','Low')"
   ]
  },
  {
   "cell_type": "code",
   "execution_count": 33,
   "id": "058112ae",
   "metadata": {},
   "outputs": [
    {
     "data": {
      "text/plain": [
       "array([ 30,  29,  23,  94,  77,  30,   3,  68,  57, 100,  15,  81,  15,\n",
       "        43,  23,  76,  43,  91,  74,  88])"
      ]
     },
     "execution_count": 33,
     "metadata": {},
     "output_type": "execute_result"
    }
   ],
   "source": [
    "np.where(A>50,A+5,A)"
   ]
  },
  {
   "cell_type": "code",
   "execution_count": 35,
   "id": "75232a0a",
   "metadata": {},
   "outputs": [
    {
     "data": {
      "text/plain": [
       "array([30, 29, 23, 89, 72, 30,  3, 63, 52, 95, 15, 76, 15, 43, 23, 71, 43,\n",
       "       86, 69, 83])"
      ]
     },
     "execution_count": 35,
     "metadata": {},
     "output_type": "execute_result"
    }
   ],
   "source": [
    "A"
   ]
  },
  {
   "cell_type": "code",
   "execution_count": 34,
   "id": "caaf5687",
   "metadata": {},
   "outputs": [
    {
     "data": {
      "text/plain": [
       "array([35, 34, 28, 89, 72, 35,  3, 63, 52, 95, 15, 76, 15, 43, 28, 71, 43,\n",
       "       86, 69, 83])"
      ]
     },
     "execution_count": 34,
     "metadata": {},
     "output_type": "execute_result"
    }
   ],
   "source": [
    "np.where((A>20) & (A<40), A+5, A)"
   ]
  },
  {
   "cell_type": "markdown",
   "id": "a1841cc0",
   "metadata": {},
   "source": [
    "# Work on images"
   ]
  },
  {
   "cell_type": "code",
   "execution_count": 37,
   "id": "7e4f1cd6",
   "metadata": {},
   "outputs": [],
   "source": [
    "import skimage.io as io"
   ]
  },
  {
   "cell_type": "code",
   "execution_count": 40,
   "id": "6e170298",
   "metadata": {},
   "outputs": [],
   "source": [
    "A = io.imread('nature_and_child.jpg',as_gray=True) # Gray scale"
   ]
  },
  {
   "cell_type": "code",
   "execution_count": 41,
   "id": "3b36af1e",
   "metadata": {},
   "outputs": [
    {
     "data": {
      "text/plain": [
       "array([[0.1171051 , 0.1171051 , 0.1171051 , ..., 0.67361059, 0.67361059,\n",
       "        0.67361059],\n",
       "       [0.1171051 , 0.1171051 , 0.1171051 , ..., 0.66968902, 0.67361059,\n",
       "        0.67361059],\n",
       "       [0.1171051 , 0.1171051 , 0.1171051 , ..., 0.6685502 , 0.6685502 ,\n",
       "        0.6685502 ],\n",
       "       ...,\n",
       "       [1.        , 1.        , 1.        , ..., 1.        , 1.        ,\n",
       "        1.        ],\n",
       "       [0.99886902, 0.99886902, 0.99886902, ..., 0.99943451, 0.99943451,\n",
       "        0.99943451],\n",
       "       [0.99858627, 0.99858627, 0.99858627, ..., 0.99886902, 0.99886902,\n",
       "        0.99886902]])"
      ]
     },
     "execution_count": 41,
     "metadata": {},
     "output_type": "execute_result"
    }
   ],
   "source": [
    "A"
   ]
  },
  {
   "cell_type": "code",
   "execution_count": 42,
   "id": "cbd182c4",
   "metadata": {},
   "outputs": [
    {
     "data": {
      "text/plain": [
       "(544, 1040)"
      ]
     },
     "execution_count": 42,
     "metadata": {},
     "output_type": "execute_result"
    }
   ],
   "source": [
    "A.shape"
   ]
  },
  {
   "cell_type": "code",
   "execution_count": 43,
   "id": "741793ed",
   "metadata": {},
   "outputs": [
    {
     "data": {
      "text/plain": [
       "<matplotlib.image.AxesImage at 0x18eac359eb0>"
      ]
     },
     "execution_count": 43,
     "metadata": {},
     "output_type": "execute_result"
    },
    {
     "data": {
      "image/png": "[encoded data removed]",
      "text/plain": [
       "<Figure size 432x288 with 1 Axes>"
      ]
     },
     "metadata": {
      "needs_background": "light"
     },
     "output_type": "display_data"
    }
   ],
   "source": [
    "io.imshow(A)"
   ]
  },
  {
   "cell_type": "code",
   "execution_count": 44,
   "id": "5e7f4145",
   "metadata": {},
   "outputs": [
    {
     "data": {
      "text/plain": [
       "<matplotlib.image.AxesImage at 0x18eac3f3be0>"
      ]
     },
     "execution_count": 44,
     "metadata": {},
     "output_type": "execute_result"
    },
    {
     "data": {
      "image/png": "[encoded data removed]",
      "text/plain": [
       "<Figure size 432x288 with 1 Axes>"
      ]
     },
     "metadata": {
      "needs_background": "light"
     },
     "output_type": "display_data"
    }
   ],
   "source": [
    "io.imshow(A[100:, 200:600])"
   ]
  },
  {
   "cell_type": "code",
   "execution_count": 45,
   "id": "68a3ee08",
   "metadata": {},
   "outputs": [
    {
     "data": {
      "text/plain": [
       "<matplotlib.image.AxesImage at 0x18eacbf3f70>"
      ]
     },
     "execution_count": 45,
     "metadata": {},
     "output_type": "execute_result"
    },
    {
     "data": {
      "image/png": "[encoded data removed]",
      "text/plain": [
       "<Figure size 432x288 with 1 Axes>"
      ]
     },
     "metadata": {
      "needs_background": "light"
     },
     "output_type": "display_data"
    }
   ],
   "source": [
    "io.imshow(A[:,::-1])"
   ]
  },
  {
   "cell_type": "code",
   "execution_count": 46,
   "id": "46ad03eb",
   "metadata": {},
   "outputs": [],
   "source": [
    "B = A[:,::-1]"
   ]
  },
  {
   "cell_type": "code",
   "execution_count": 47,
   "id": "20ee40de",
   "metadata": {},
   "outputs": [
    {
     "name": "stderr",
     "output_type": "stream",
     "text": [
      "Lossy conversion from float64 to uint8. Range [0, 1]. Convert image to uint8 prior to saving to suppress this warning.\n"
     ]
    }
   ],
   "source": [
    "io.imsave('reverse.jpg',B)"
   ]
  },
  {
   "cell_type": "code",
   "execution_count": null,
   "id": "f731d3d2",
   "metadata": {},
   "outputs": [],
   "source": []
  }
 ],
 "metadata": {
  "kernelspec": {
   "display_name": "Python 3 (ipykernel)",
   "language": "python",
   "name": "python3"
  },
  "language_info": {
   "codemirror_mode": {
    "name": "ipython",
    "version": 3
   },
   "file_extension": ".py",
   "mimetype": "text/x-python",
   "name": "python",
   "nbconvert_exporter": "python",
   "pygments_lexer": "ipython3",
   "version": "3.9.12"
  }
 },
 "nbformat": 4,
 "nbformat_minor": 5
}
