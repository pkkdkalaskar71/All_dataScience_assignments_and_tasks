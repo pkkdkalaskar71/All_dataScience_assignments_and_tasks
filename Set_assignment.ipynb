{
 "cells": [
  {
   "cell_type": "code",
   "execution_count": 1,
   "id": "16825b98",
   "metadata": {},
   "outputs": [
    {
     "name": "stdout",
     "output_type": "stream",
     "text": [
      "Students who play outdoor games olny : {3, 4, 5, 8, 9, 10, 13}\n",
      "Students who play all the games : {6, 7}\n",
      "Students who play nothing :  {17, 18, 19, 14}\n",
      "Students who play atlist 1 outdoor game and chess : {1, 2, 6, 7, 11, 12}\n",
      "Students who play cricket and chess not footboll : {1, 2}\n"
     ]
    }
   ],
   "source": [
    "G = {1,2,3,4,5,6,7,8,9,10,11,12,13,14,15,16,17,18,19,20}\n",
    "G1 = {1,2,3,4,5,6,7,8,9} #cricket\n",
    "G2 = {5,6,7,8,9,10,11,12,13} #football\n",
    "G3 = {1,2,6,7,11,12,15,16,20} #chess\n",
    "print(\"Students who play outdoor games olny :\",(G1 | G2) - G3)\n",
    "print(\"Students who play all the games :\",(G1 & G2 & G3))\n",
    "print(\"Students who play nothing : \",G-(G1 | G2 | G3))\n",
    "print(\"Students who play atlist 1 outdoor game and chess :\",(G1 | G2) & G3)\n",
    "print(\"Students who play cricket and chess not footboll :\",(G1 & G3) - G2)"
   ]
  },
  {
   "cell_type": "code",
   "execution_count": null,
   "id": "80f074fd",
   "metadata": {},
   "outputs": [],
   "source": []
  }
 ],
 "metadata": {
  "kernelspec": {
   "display_name": "Python 3 (ipykernel)",
   "language": "python",
   "name": "python3"
  },
  "language_info": {
   "codemirror_mode": {
    "name": "ipython",
    "version": 3
   },
   "file_extension": ".py",
   "mimetype": "text/x-python",
   "name": "python",
   "nbconvert_exporter": "python",
   "pygments_lexer": "ipython3",
   "version": "3.9.12"
  }
 },
 "nbformat": 4,
 "nbformat_minor": 5
}
