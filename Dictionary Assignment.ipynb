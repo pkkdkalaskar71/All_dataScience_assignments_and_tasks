{
 "cells": [
  {
   "cell_type": "code",
   "execution_count": 2,
   "id": "b8ba1df9",
   "metadata": {},
   "outputs": [
    {
     "name": "stdout",
     "output_type": "stream",
     "text": [
      "{1: [1, 2, 4, 8], 2: [16, 32, 64], 3: [128, 256, 512], 4: [1024], 5: [32768, 65536], 6: [4294967296]}\n"
     ]
    }
   ],
   "source": [
    "l = [1,2,4,8,16,32,64,128,256,512,1024,32768,65536,4294967296]\n",
    "l.sort()\n",
    "l1 = []\n",
    "dic = dict()\n",
    "d=1\n",
    "for s in l:\n",
    "    if len(str(s))!=d:\n",
    "        dic[d]=l1\n",
    "        d+=1\n",
    "        l1 = []\n",
    "    l1.append(s)\n",
    "dic[d] = l1\n",
    "print(dic)"
   ]
  }
 ],
 "metadata": {
  "kernelspec": {
   "display_name": "Python 3 (ipykernel)",
   "language": "python",
   "name": "python3"
  },
  "language_info": {
   "codemirror_mode": {
    "name": "ipython",
    "version": 3
   },
   "file_extension": ".py",
   "mimetype": "text/x-python",
   "name": "python",
   "nbconvert_exporter": "python",
   "pygments_lexer": "ipython3",
   "version": "3.9.12"
  }
 },
 "nbformat": 4,
 "nbformat_minor": 5
}
