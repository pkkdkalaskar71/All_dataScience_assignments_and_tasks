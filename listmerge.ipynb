{
 "cells": [
  {
   "cell_type": "code",
   "execution_count": 31,
   "id": "4b179345",
   "metadata": {},
   "outputs": [
    {
     "name": "stdout",
     "output_type": "stream",
     "text": [
      "Enter sorted list1357\n",
      "Enter sorted list2468\n",
      "The original list 1 is : ['1', '3', '5', '7']\n",
      "The original list 2 is : ['2', '4', '6', '8']\n",
      "5 5\n",
      "The combined sorted list is : [1, 3, 4, 5, 6, 7, 8, 9, 10, 11]\n"
     ]
    }
   ],
   "source": [
    "# initializing lists\n",
    "#test_list1 = [1, 5, 6, 9, 11]\n",
    "#test_list2 = [3, 4, 7, 8, 10]\n",
    "  \n",
    "# printing original lists \n",
    "def sort(list1,list2):\n",
    " \n",
    "    size_1 = len(list1)\n",
    "    size_2 = len(list2)\n",
    "    res = []\n",
    "    i, j = 0, 0\n",
    "    return size_1\n",
    "    return size_2\n",
    "    while i < size_1 and j < size_2:\n",
    "        if list1[i] < list2[j]:\n",
    "            res.append(list1[i])\n",
    "            i += 1\n",
    "        else:\n",
    "            res.append(list2[j])\n",
    "            j += 1\n",
    "  \n",
    "    res = res + list1[i:] + list2[j:]\n",
    "\n",
    "l1=list(input(\"Enter sorted list\"))\n",
    "l2=list(input(\"Enter sorted list\"))\n",
    "print (\"The original list 1 is : \" + str(l1))\n",
    "print (\"The original list 2 is : \" + str(l2))\n",
    "print(size_1,size_1)\n",
    "sort(l1,l2)\n",
    "print (\"The combined sorted list is : \" + str(res))"
   ]
  },
  {
   "cell_type": "code",
   "execution_count": 13,
   "id": "836daf96",
   "metadata": {},
   "outputs": [
    {
     "ename": "NameError",
     "evalue": "name 'res' is not defined",
     "output_type": "error",
     "traceback": [
      "\u001b[1;31m---------------------------------------------------------------------------\u001b[0m",
      "\u001b[1;31mNameError\u001b[0m                                 Traceback (most recent call last)",
      "Input \u001b[1;32mIn [13]\u001b[0m, in \u001b[0;36m<cell line: 22>\u001b[1;34m()\u001b[0m\n\u001b[0;32m     19\u001b[0m l2\u001b[38;5;241m=\u001b[39m[\u001b[38;5;241m2\u001b[39m,\u001b[38;5;241m4\u001b[39m,\u001b[38;5;241m6\u001b[39m,\u001b[38;5;241m8\u001b[39m]\n\u001b[0;32m     21\u001b[0m sort(l1,l2)\n\u001b[1;32m---> 22\u001b[0m \u001b[38;5;28mprint\u001b[39m(\u001b[38;5;28mstr\u001b[39m(\u001b[43mres\u001b[49m))\n",
      "\u001b[1;31mNameError\u001b[0m: name 'res' is not defined"
     ]
    }
   ],
   "source": [
    "\n",
    "def sort(list1,list2):\n",
    " \n",
    "    size_1 = len(list1)\n",
    "    size_2 = len(list2)\n",
    "    res = []\n",
    "    i, j = 0, 0\n",
    "    return size_1\n",
    "    return size_2\n",
    "    while i < size_1 and j < size_2:\n",
    "        if list1[i] < list2[j]:\n",
    "            res.append(list1[i])\n",
    "            i += 1\n",
    "        else:\n",
    "            res.append(list2[j])\n",
    "            j += 1\n",
    "            res = res + list1[i:] + list2[j:]\n",
    "    return(res)\n",
    "l1=[1,3,5,7]\n",
    "l2=[2,4,6,8]\n",
    "\n",
    "sort(l1,l2)\n",
    "print(str(res))"
   ]
  },
  {
   "cell_type": "code",
   "execution_count": 20,
   "id": "b3c0db75",
   "metadata": {},
   "outputs": [
    {
     "data": {
      "text/plain": [
       "[1, 3, 4, 5, 6, 7, 8, 9, 10, 11]"
      ]
     },
     "execution_count": 20,
     "metadata": {},
     "output_type": "execute_result"
    }
   ],
   "source": [
    "\n",
    "def reverse(list1,list2):\n",
    "    size_1 = len(list1)\n",
    "    size_2 = len(list2)\n",
    "    res = []\n",
    "    i, j = 0, 0\n",
    "    while i < size_1 and j < size_2:\n",
    "        if list1[i] < list2[j]:\n",
    "            res.append(list1[i])\n",
    "            i += 1\n",
    "        else:\n",
    "            res.append(list2[j])\n",
    "            j += 1\n",
    "    res = res + list1[i:] + list2[j:]\n",
    "  \n",
    "    return res\n",
    "l1 = [1, 5, 6, 9, 11]\n",
    "l2 = [3, 4, 7, 8, 10]\n",
    "reverse(l1,l2)"
   ]
  },
  {
   "cell_type": "code",
   "execution_count": null,
   "id": "755aec8a",
   "metadata": {},
   "outputs": [],
   "source": []
  }
 ],
 "metadata": {
  "kernelspec": {
   "display_name": "Python 3 (ipykernel)",
   "language": "python",
   "name": "python3"
  },
  "language_info": {
   "codemirror_mode": {
    "name": "ipython",
    "version": 3
   },
   "file_extension": ".py",
   "mimetype": "text/x-python",
   "name": "python",
   "nbconvert_exporter": "python",
   "pygments_lexer": "ipython3",
   "version": "3.9.12"
  }
 },
 "nbformat": 4,
 "nbformat_minor": 5
}
