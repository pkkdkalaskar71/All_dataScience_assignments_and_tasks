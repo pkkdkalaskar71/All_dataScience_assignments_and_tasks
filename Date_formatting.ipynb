{
 "cells": [
  {
   "cell_type": "code",
   "execution_count": 1,
   "id": "36d9c9fb",
   "metadata": {},
   "outputs": [
    {
     "name": "stdout",
     "output_type": "stream",
     "text": [
      "Enter date:01/01/2001\n",
      "01 Jan 2001\n"
     ]
    }
   ],
   "source": [
    "MONTH = [None, 'Jan', 'Feb','Mar','Apr','May','Jun','Jul','Aug','Sep','Oct','Nov','Dec']\n",
    "l1 = []\n",
    "val = 0\n",
    "st = \"\"\n",
    "inp=input(\"Enter date:\")\n",
    "for s in inp:\n",
    "    if s==\"/\":\n",
    "        l1.append(st)\n",
    "        st = \"\"\n",
    "    else:\n",
    "        st+=s\n",
    "l1.append(st)\n",
    "if len(l1[2])==4 and int(l1[0])<=31 and  int(l1[1])<=12 and int(l1[1]!=0 and int(l1[0]!=0)):\n",
    "    print(f\"{l1[0]} {MONTH[int(l1[1])]} {l1[2]}\")\n",
    "else:\n",
    "    print(\"wrong\")"
   ]
  },
  {
   "cell_type": "code",
   "execution_count": 2,
   "id": "45f16bf2",
   "metadata": {},
   "outputs": [
    {
     "name": "stdout",
     "output_type": "stream",
     "text": [
      "Enter date:20/5/2010\n",
      "20 May 2010\n"
     ]
    }
   ],
   "source": [
    "MONTH = [None, 'Jan', 'Feb','Mar','Apr','May','Jun','Jul','Aug','Sep','Oct','Nov','Dec']\n",
    "l1 = []\n",
    "val = 0\n",
    "st = \"\"\n",
    "inp=input(\"Enter date:\")\n",
    "for s in inp:\n",
    "    if s==\"/\":\n",
    "        l1.append(st)\n",
    "        st = \"\"\n",
    "    else:\n",
    "        st+=s\n",
    "l1.append(st)\n",
    "if len(l1[2])==4 and int(l1[0])<=31 and  int(l1[1])<=12 and int(l1[1]!=0 and int(l1[0]!=0)):\n",
    "    print(f\"{l1[0]} {MONTH[int(l1[1])]} {l1[2]}\")\n",
    "else:\n",
    "    print(\"wrong\")"
   ]
  },
  {
   "cell_type": "code",
   "execution_count": 3,
   "id": "fe9538a8",
   "metadata": {},
   "outputs": [
    {
     "name": "stdout",
     "output_type": "stream",
     "text": [
      "Enter date:9/9/2021\n",
      "9 Sep 2021\n"
     ]
    }
   ],
   "source": [
    "MONTH = [None, 'Jan', 'Feb','Mar','Apr','May','Jun','Jul','Aug','Sep','Oct','Nov','Dec']\n",
    "l1 = []\n",
    "val = 0\n",
    "st = \"\"\n",
    "inp=input(\"Enter date:\")\n",
    "for s in inp:\n",
    "    if s==\"/\":\n",
    "        l1.append(st)\n",
    "        st = \"\"\n",
    "    else:\n",
    "        st+=s\n",
    "l1.append(st)\n",
    "if len(l1[2])==4 and int(l1[0])<=31 and  int(l1[1])<=12 and int(l1[1]!=0 and int(l1[0]!=0)):\n",
    "    print(f\"{l1[0]} {MONTH[int(l1[1])]} {l1[2]}\")\n",
    "else:\n",
    "    print(\"wrong\")"
   ]
  }
 ],
 "metadata": {
  "kernelspec": {
   "display_name": "Python 3 (ipykernel)",
   "language": "python",
   "name": "python3"
  },
  "language_info": {
   "codemirror_mode": {
    "name": "ipython",
    "version": 3
   },
   "file_extension": ".py",
   "mimetype": "text/x-python",
   "name": "python",
   "nbconvert_exporter": "python",
   "pygments_lexer": "ipython3",
   "version": "3.9.12"
  }
 },
 "nbformat": 4,
 "nbformat_minor": 5
}
