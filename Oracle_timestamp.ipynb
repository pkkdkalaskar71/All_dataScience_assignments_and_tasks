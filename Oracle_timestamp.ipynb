{
 "cells": [
  {
   "cell_type": "code",
   "execution_count": 1,
   "id": "1afaf285",
   "metadata": {},
   "outputs": [
    {
     "name": "stdout",
     "output_type": "stream",
     "text": [
      "Enter Timestamp('YYYY-MM-DD HH-MI-SS-FF'):1999-12-31 23:59:50.10\n",
      "Date: 31 Month: 12 Year: 1999 Hour: 23 Minute: 59\n"
     ]
    }
   ],
   "source": [
    "str1 = input(\"Enter Timestamp('YYYY-MM-DD HH-MI-SS-FF'):\")\n",
    "date = str1[8:10:1]\n",
    "month = str1[5:7:1]\n",
    "year = str1[0:4:1]\n",
    "hour = str1[11:13:1]\n",
    "minute = str1[14:16:1]\n",
    "second = str1[17:19:1]\n",
    "ff = str1[20:22:1]\n",
    "print('Date:',date,'Month:',month,'Year:',year,'Hour:',hour,'Minute:',minute)#,'Second:',second,'FF:',ff"
   ]
  },
  {
   "cell_type": "code",
   "execution_count": 2,
   "id": "4d46bf9a",
   "metadata": {},
   "outputs": [
    {
     "name": "stdout",
     "output_type": "stream",
     "text": [
      "Enter Timestamp('YYYY-MM-DD HH-MI-SS-FF'):2021-12-05 03:22:50.10\n",
      "Date: 05 Month: 12 Year: 2021 Hour: 03 Minute: 22\n"
     ]
    }
   ],
   "source": [
    "str1 = input(\"Enter Timestamp('YYYY-MM-DD HH-MI-SS-FF'):\")\n",
    "date = str1[8:10:1]\n",
    "month = str1[5:7:1]\n",
    "year = str1[0:4:1]\n",
    "hour = str1[11:13:1]\n",
    "minute = str1[14:16:1]\n",
    "second = str1[17:19:1]\n",
    "ff = str1[20:22:1]\n",
    "print('Date:',date,'Month:',month,'Year:',year,'Hour:',hour,'Minute:',minute)#,'Second:',second,'FF:',ff"
   ]
  }
 ],
 "metadata": {
  "kernelspec": {
   "display_name": "Python 3 (ipykernel)",
   "language": "python",
   "name": "python3"
  },
  "language_info": {
   "codemirror_mode": {
    "name": "ipython",
    "version": 3
   },
   "file_extension": ".py",
   "mimetype": "text/x-python",
   "name": "python",
   "nbconvert_exporter": "python",
   "pygments_lexer": "ipython3",
   "version": "3.9.12"
  }
 },
 "nbformat": 4,
 "nbformat_minor": 5
}
