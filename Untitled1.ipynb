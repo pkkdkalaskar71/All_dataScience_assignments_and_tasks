{
 "cells": [
  {
   "cell_type": "code",
   "execution_count": 1,
   "id": "2043af80",
   "metadata": {},
   "outputs": [
    {
     "name": "stdout",
     "output_type": "stream",
     "text": [
      "[1, 3, 2]\n"
     ]
    }
   ],
   "source": [
    "li = [1,2,3,2]\n",
    "li.remove(2)\n",
    "print(li)"
   ]
  },
  {
   "cell_type": "code",
   "execution_count": 16,
   "id": "cdc5e906",
   "metadata": {},
   "outputs": [],
   "source": [
    "nlst=slst=clst=[]\n",
    "for i in range(1,4):\n",
    "    nlst.append(i)\n",
    "    slst.append(i*i)\n",
    "    clst.append(i*i*i)"
   ]
  },
  {
   "cell_type": "code",
   "execution_count": 18,
   "id": "b494ef5a",
   "metadata": {},
   "outputs": [
    {
     "name": "stdout",
     "output_type": "stream",
     "text": [
      "[1, 1, 1, 2, 4, 8, 3, 9, 27]\n",
      "[1, 1, 1, 2, 4, 8, 3, 9, 27]\n",
      "[1, 1, 1, 2, 4, 8, 3, 9, 27]\n"
     ]
    }
   ],
   "source": [
    "print(nlst)\n",
    "print(slst)\n",
    "print(clst)"
   ]
  },
  {
   "cell_type": "code",
   "execution_count": 5,
   "id": "68531689",
   "metadata": {},
   "outputs": [
    {
     "name": "stdout",
     "output_type": "stream",
     "text": [
      "float64\n"
     ]
    }
   ],
   "source": [
    "import numpy as np\n",
    "print(np.zeros(5).dtype)"
   ]
  },
  {
   "cell_type": "code",
   "execution_count": null,
   "id": "ede659d2",
   "metadata": {},
   "outputs": [],
   "source": []
  }
 ],
 "metadata": {
  "kernelspec": {
   "display_name": "Python 3 (ipykernel)",
   "language": "python",
   "name": "python3"
  },
  "language_info": {
   "codemirror_mode": {
    "name": "ipython",
    "version": 3
   },
   "file_extension": ".py",
   "mimetype": "text/x-python",
   "name": "python",
   "nbconvert_exporter": "python",
   "pygments_lexer": "ipython3",
   "version": "3.9.12"
  }
 },
 "nbformat": 4,
 "nbformat_minor": 5
}
