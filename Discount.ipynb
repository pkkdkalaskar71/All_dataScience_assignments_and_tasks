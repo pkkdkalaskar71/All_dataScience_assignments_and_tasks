{
 "cells": [
  {
   "cell_type": "code",
   "execution_count": 8,
   "id": "3c7c1abf",
   "metadata": {},
   "outputs": [
    {
     "name": "stdout",
     "output_type": "stream",
     "text": [
      "Enter a no. :- $500\n",
      "$425.0\n"
     ]
    }
   ],
   "source": [
    "a='125'\n",
    "b='$'\n",
    "b=int(a)\n",
    "type(b)\n",
    "\n",
    "price=input('Enter a no. :- ')\n",
    "y=price.split('$')[1]\n",
    "x=int(y)\n",
    "discount=x*(0.15)\n",
    "new_price=x-discount\n",
    "z=str((new_price))\n",
    "print(('$'+z))"
   ]
  },
  {
   "cell_type": "code",
   "execution_count": null,
   "id": "9cd46ed7",
   "metadata": {},
   "outputs": [],
   "source": []
  },
  {
   "cell_type": "code",
   "execution_count": 6,
   "id": "72afad8e",
   "metadata": {},
   "outputs": [
    {
     "name": "stdout",
     "output_type": "stream",
     "text": [
      "Enter a no. :- $150\n",
      "$127.5\n"
     ]
    }
   ],
   "source": [
    "a='125'\n",
    "b='$'\n",
    "b=int(a)\n",
    "type(b)\n",
    "\n",
    "price=input('Enter a no. :- ')\n",
    "y=price.split('$')[1]\n",
    "x=int(y)\n",
    "discount=x*(0.15)\n",
    "new_price=x-discount\n",
    "z=str((new_price))\n",
    "print(('$'+z))"
   ]
  },
  {
   "cell_type": "code",
   "execution_count": null,
   "id": "3173c29d",
   "metadata": {},
   "outputs": [],
   "source": []
  }
 ],
 "metadata": {
  "kernelspec": {
   "display_name": "Python 3 (ipykernel)",
   "language": "python",
   "name": "python3"
  },
  "language_info": {
   "codemirror_mode": {
    "name": "ipython",
    "version": 3
   },
   "file_extension": ".py",
   "mimetype": "text/x-python",
   "name": "python",
   "nbconvert_exporter": "python",
   "pygments_lexer": "ipython3",
   "version": "3.9.12"
  }
 },
 "nbformat": 4,
 "nbformat_minor": 5
}
