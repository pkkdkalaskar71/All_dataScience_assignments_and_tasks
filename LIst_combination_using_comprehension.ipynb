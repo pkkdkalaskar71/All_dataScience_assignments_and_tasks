{
 "cells": [
  {
   "cell_type": "code",
   "execution_count": 1,
   "id": "82dacf0a",
   "metadata": {},
   "outputs": [
    {
     "data": {
      "text/plain": [
       "[('@', '1', 'a'),\n",
       " ('@', '1', 'b'),\n",
       " ('@', '1', 'c'),\n",
       " ('@', '2', 'a'),\n",
       " ('@', '2', 'b'),\n",
       " ('@', '2', 'c'),\n",
       " ('@', '3', 'a'),\n",
       " ('@', '3', 'b'),\n",
       " ('@', '3', 'c'),\n",
       " ('#', '1', 'a'),\n",
       " ('#', '1', 'b'),\n",
       " ('#', '1', 'c'),\n",
       " ('#', '2', 'a'),\n",
       " ('#', '2', 'b'),\n",
       " ('#', '2', 'c'),\n",
       " ('#', '3', 'a'),\n",
       " ('#', '3', 'b'),\n",
       " ('#', '3', 'c'),\n",
       " ('$', '1', 'a'),\n",
       " ('$', '1', 'b'),\n",
       " ('$', '1', 'c'),\n",
       " ('$', '2', 'a'),\n",
       " ('$', '2', 'b'),\n",
       " ('$', '2', 'c'),\n",
       " ('$', '3', 'a'),\n",
       " ('$', '3', 'b'),\n",
       " ('$', '3', 'c')]"
      ]
     },
     "execution_count": 1,
     "metadata": {},
     "output_type": "execute_result"
    }
   ],
   "source": [
    "import itertools\n",
    "special_symbols = ['@','#','$'] \n",
    "numbers = ['1','2','3'] \n",
    "alphabets = ['a','b','c'] \n",
    "pass_word = list(itertools.product(special_symbols , numbers , alphabets))\n",
    "pass_word"
   ]
  },
  {
   "cell_type": "code",
   "execution_count": 2,
   "id": "a8ae8106",
   "metadata": {},
   "outputs": [
    {
     "name": "stdout",
     "output_type": "stream",
     "text": [
      "['@1a', '@1b', '@1c', '@2a', '@2b', '@2c', '@3a', '@3b', '@3c', '#1a', '#1b', '#1c', '#2a', '#2b', '#2c', '#3a', '#3b', '#3c', '$1a', '$1b', '$1c', '$2a', '$2b', '$2c', '$3a', '$3b', '$3c']\n"
     ]
    }
   ],
   "source": [
    "special_symbols = ['@','#','$'] \n",
    "numbers = ['1','2','3'] \n",
    "alphabets = ['a','b','c'] \n",
    "password = []\n",
    "for i in special_symbols:\n",
    "    for j in numbers: \n",
    "        for k in alphabets:\n",
    "            password.append(i+j+k)\n",
    "print(password)"
   ]
  }
 ],
 "metadata": {
  "kernelspec": {
   "display_name": "Python 3 (ipykernel)",
   "language": "python",
   "name": "python3"
  },
  "language_info": {
   "codemirror_mode": {
    "name": "ipython",
    "version": 3
   },
   "file_extension": ".py",
   "mimetype": "text/x-python",
   "name": "python",
   "nbconvert_exporter": "python",
   "pygments_lexer": "ipython3",
   "version": "3.9.12"
  }
 },
 "nbformat": 4,
 "nbformat_minor": 5
}
