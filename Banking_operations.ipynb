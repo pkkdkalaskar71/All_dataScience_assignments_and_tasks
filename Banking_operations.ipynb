{
 "cells": [
  {
   "cell_type": "code",
   "execution_count": 19,
   "id": "3c028dcb",
   "metadata": {},
   "outputs": [
    {
     "name": "stdout",
     "output_type": "stream",
     "text": [
      "Enter Operation: D 300\n",
      "Enter Operation: D 300\n",
      "Enter Operation: W 200\n",
      "Enter Operation: D 100\n",
      "Enter Operation: Q\n",
      "Final Balance:  500\n"
     ]
    }
   ],
   "source": [
    "x=0\n",
    "z=True\n",
    "while True:\n",
    "    operation=input(\"Enter Operation: \").upper()\n",
    "    a=operation.split(' ')\n",
    "    Transation=a[0]\n",
    "    if Transation=='Q':\n",
    "        break\n",
    "    y=int(a[1])\n",
    "    if Transation=='D':\n",
    "        x=x+y\n",
    "    if Transation=='W':\n",
    "        x=x-y\n",
    "        if x<y:\n",
    "            print('amount is not witdrawable')\n",
    "            z=False\n",
    "            break\n",
    "            \n",
    "if z:\n",
    "    print('Final Balance: ',x)"
   ]
  },
  {
   "cell_type": "code",
   "execution_count": null,
   "id": "78c83897",
   "metadata": {},
   "outputs": [],
   "source": []
  }
 ],
 "metadata": {
  "kernelspec": {
   "display_name": "Python 3 (ipykernel)",
   "language": "python",
   "name": "python3"
  },
  "language_info": {
   "codemirror_mode": {
    "name": "ipython",
    "version": 3
   },
   "file_extension": ".py",
   "mimetype": "text/x-python",
   "name": "python",
   "nbconvert_exporter": "python",
   "pygments_lexer": "ipython3",
   "version": "3.9.12"
  }
 },
 "nbformat": 4,
 "nbformat_minor": 5
}
