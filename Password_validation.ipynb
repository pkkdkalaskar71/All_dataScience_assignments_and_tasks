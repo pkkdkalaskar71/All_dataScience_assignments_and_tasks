{
 "cells": [
  {
   "cell_type": "code",
   "execution_count": 1,
   "id": "200e13ef",
   "metadata": {},
   "outputs": [
    {
     "name": "stdout",
     "output_type": "stream",
     "text": [
      "ABd1234@1\n",
      "valid\n"
     ]
    }
   ],
   "source": [
    "import re\n",
    "ex=input()\n",
    "i=len(re.findall(\"[0-9]\",ex))!=0 and len(re.findall(\"[a-z]\",ex))!=0 and len(re.findall(\"[A-Z]\",ex))!=0 and len(re.findall(\"[$,#,@]\",ex))\n",
    "if i:\n",
    "    print(\"valid\")\n",
    "else:\n",
    "    print(\"invalid\")"
   ]
  },
  {
   "cell_type": "code",
   "execution_count": 2,
   "id": "1d443a6c",
   "metadata": {},
   "outputs": [
    {
     "name": "stdout",
     "output_type": "stream",
     "text": [
      "F1#2w3E*\n",
      "valid\n"
     ]
    }
   ],
   "source": [
    "import re\n",
    "ex=input()\n",
    "i=len(re.findall(\"[0-9]\",ex))!=0 and len(re.findall(\"[a-z]\",ex))!=0 and len(re.findall(\"[A-Z]\",ex))!=0 and len(re.findall(\"[$,#,@]\",ex))\n",
    "if i:\n",
    "    print(\"valid\")\n",
    "else:\n",
    "    print(\"invalid\")"
   ]
  },
  {
   "cell_type": "code",
   "execution_count": 3,
   "id": "2d36b657",
   "metadata": {},
   "outputs": [
    {
     "name": "stdout",
     "output_type": "stream",
     "text": [
      "2We3345\n",
      "invalid\n"
     ]
    }
   ],
   "source": [
    "import re\n",
    "ex=input()\n",
    "i=len(re.findall(\"[0-9]\",ex))!=0 and len(re.findall(\"[a-z]\",ex))!=0 and len(re.findall(\"[A-Z]\",ex))!=0 and len(re.findall(\"[$,#,@]\",ex))\n",
    "if i:\n",
    "    print(\"valid\")\n",
    "else:\n",
    "    print(\"invalid\")"
   ]
  }
 ],
 "metadata": {
  "kernelspec": {
   "display_name": "Python 3 (ipykernel)",
   "language": "python",
   "name": "python3"
  },
  "language_info": {
   "codemirror_mode": {
    "name": "ipython",
    "version": 3
   },
   "file_extension": ".py",
   "mimetype": "text/x-python",
   "name": "python",
   "nbconvert_exporter": "python",
   "pygments_lexer": "ipython3",
   "version": "3.9.12"
  }
 },
 "nbformat": 4,
 "nbformat_minor": 5
}
